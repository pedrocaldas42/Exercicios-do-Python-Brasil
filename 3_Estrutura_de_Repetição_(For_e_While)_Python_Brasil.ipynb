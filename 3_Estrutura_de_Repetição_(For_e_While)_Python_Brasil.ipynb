{
  "nbformat": 4,
  "nbformat_minor": 0,
  "metadata": {
    "colab": {
      "provenance": [],
      "gpuType": "T4",
      "authorship_tag": "ABX9TyOHI3tSIbHbCGqqLtxmObi/",
      "include_colab_link": true
    },
    "kernelspec": {
      "name": "python3",
      "display_name": "Python 3"
    },
    "language_info": {
      "name": "python"
    }
  },
  "cells": [
    {
      "cell_type": "markdown",
      "metadata": {
        "id": "view-in-github",
        "colab_type": "text"
      },
      "source": [
        "<a href=\"https://colab.research.google.com/github/pedrocaldas42/Exercicios-do-Python-Brasil/blob/main/3_Estrutura_de_Repeti%C3%A7%C3%A3o_(For_e_While)_Python_Brasil.ipynb\" target=\"_parent\"><img src=\"https://colab.research.google.com/assets/colab-badge.svg\" alt=\"Open In Colab\"/></a>"
      ]
    },
    {
      "cell_type": "markdown",
      "source": [
        "## 1 - Faça um programa que peça uma nota, entre zero e dez. Mostre uma mensagem caso o valor seja inválido e continue pedindo até que o usuário informe um valor válido."
      ],
      "metadata": {
        "id": "HAXnM3ThDZZK"
      }
    },
    {
      "cell_type": "code",
      "execution_count": null,
      "metadata": {
        "colab": {
          "base_uri": "https://localhost:8080/"
        },
        "id": "TJjE4J2PDLvq",
        "outputId": "fe74a2ae-cc87-488e-d63f-585178061d37"
      },
      "outputs": [
        {
          "output_type": "stream",
          "name": "stdout",
          "text": [
            " digite uma nota de 0 a 10 :15\n",
            "Valor Invalido,Tente Novamente !\n",
            " digite uma nota de 0 a 10 :5\n",
            "Nota =  5\n"
          ]
        }
      ],
      "source": [
        "while True:\n",
        "  nota = int(input(' digite uma nota de 0 a 10 :'))\n",
        "  if 0 <= nota <= 10 :\n",
        "    break\n",
        "  else :\n",
        "    print('Valor Invalido,Tente Novamente !')\n",
        "    continue\n",
        "print('Nota = ',nota)"
      ]
    },
    {
      "cell_type": "markdown",
      "source": [
        "## 2 - Faça um programa que leia um nome de usuário e a sua senha e não aceite a senha igual ao nome do usuário, mostrando uma mensagem de erro e voltando a pedir as informações."
      ],
      "metadata": {
        "id": "rp0psrj4DkDv"
      }
    },
    {
      "cell_type": "code",
      "source": [
        "from getpass import getpass # função para esconder senha\n",
        "while True:\n",
        "  user = input('Usuario :')\n",
        "  senha = getpass('Senha :')#metodo getpass ,esconde a senha\n",
        "  if user == senha :\n",
        "   print('usuario e senha não podem ser iguais,tente Novamente !')\n",
        "   continue\n",
        "  else:\n",
        "   break\n",
        "\n",
        "print('Usuario e Senha aceitos, Fim !')"
      ],
      "metadata": {
        "id": "VEUFpoC-DuPr",
        "colab": {
          "base_uri": "https://localhost:8080/"
        },
        "outputId": "3a03c124-a578-4af9-9a1c-6b826ac98810"
      },
      "execution_count": null,
      "outputs": [
        {
          "output_type": "stream",
          "name": "stdout",
          "text": [
            "Usuario :pedro\n",
            "Senha :··········\n",
            "usuario e senha não podem ser iguais,tente Novamente !\n",
            "Usuario :pedro\n",
            "Senha :··········\n",
            "Usuario e Senha aceitos, Fim !\n"
          ]
        }
      ]
    },
    {
      "cell_type": "markdown",
      "source": [
        "## 3 - Faça um programa que leia e valide as seguintes informações:\n",
        "    a - Nome: maior que 3 caracteres;\n",
        "    b - Idade: entre 0 e 150;\n",
        "    c - Salário: maior que zero;\n",
        "    d - Sexo: 'f' ou 'm';\n",
        "    e - Estado Civil: 's', 'c', 'v', 'd';"
      ],
      "metadata": {
        "id": "YhmwSzMxDvGx"
      }
    },
    {
      "cell_type": "code",
      "source": [
        "while True:\n",
        "  nome = input('Digite seu nome ? ')\n",
        "  if len(nome) <= 3:\n",
        "    print('vc digitou um nome com menos de 3 letra,tente novamente')\n",
        "    continue\n",
        "  else:\n",
        "    break\n",
        "\n",
        "while True:\n",
        "  idade = int(input('digite sua idade :'))\n",
        "  if 0  <= idade <= 150:\n",
        "    break\n",
        "  else:\n",
        "    print('digite idade entre 0 e 150 !')\n",
        "    continue\n",
        "\n",
        "while True:\n",
        "  salario = float(input('digite seu salario :'))\n",
        "  if salario <= 0:\n",
        "    print('salario não pode ser negativo e nem zero')\n",
        "    continue\n",
        "  else:\n",
        "    break\n",
        "\n",
        "while True:\n",
        "    sexo = input(\"sexo - 'f' ou 'm' :\" )\n",
        "    if sexo == 'f' or sexo == 'm' or sexo == 'F' or sexo == 'M':\n",
        "      break\n",
        "    else:\n",
        "      print('digite F ou M')\n",
        "      continue\n",
        "\n",
        "while True :\n",
        "    estadoCivil = input(\"Estado Civil = 's','c','v','d' :\")\n",
        "    if estadoCivil == 's' or estadoCivil =='c' or estadoCivil =='v' or estadoCivil =='d':\n",
        "      break\n",
        "    else:\n",
        "      print('opção invalida ,tente novmente')\n",
        "      continue\n",
        "\n",
        "print('Nome :',nome)\n",
        "print('Idade:',idade, 'Anos')\n",
        "print('Salário R$:',round(salario,2))\n",
        "print('Sexo',sexo)\n",
        "print('Estado Civil :',estadoCivil)\n",
        "\n"
      ],
      "metadata": {
        "id": "B-ZjvA24EGEQ"
      },
      "execution_count": null,
      "outputs": []
    },
    {
      "cell_type": "markdown",
      "source": [
        "## 4 - Supondo que a população de um país A seja da ordem de 80000 habitantes com uma taxa anual de crescimento de 3% e que a população de B seja 200000 habitantes com uma taxa de crescimento de 1.5%. Faça um programa que calcule e escreva o número de anos necessários para que a população do país A ultrapasse ou iguale a população do país B, mantidas as taxas de crescimento."
      ],
      "metadata": {
        "id": "4KFyjDN0FzeF"
      }
    },
    {
      "cell_type": "code",
      "source": [
        "A = 80000\n",
        "B = 200000\n",
        "anos = 0\n",
        "while A <= B:\n",
        "  A = A * (1 + 0.03)\n",
        "  B = B * (1 + 0.015)\n",
        "  anos +=1\n",
        "\n",
        "print(f'A iguala B em {anos} anos')\n"
      ],
      "metadata": {
        "id": "7SO1blNXF4w3",
        "colab": {
          "base_uri": "https://localhost:8080/"
        },
        "outputId": "52fe16f0-955a-4bc0-fd39-e7dbb0f9d8d0"
      },
      "execution_count": null,
      "outputs": [
        {
          "output_type": "stream",
          "name": "stdout",
          "text": [
            "A igual B em 63 anos\n"
          ]
        }
      ]
    },
    {
      "cell_type": "markdown",
      "source": [
        "## 5 - Altere o programa anterior permitindo ao usuário informar as populações e as taxas de crescimento iniciais. Valide a entrada e permita repetir a operação."
      ],
      "metadata": {
        "id": "1ikuzQqkF6oH"
      }
    },
    {
      "cell_type": "code",
      "source": [
        "while True:\n",
        "  A = int(input('digite a populção da cidade A :'))\n",
        "  taxaA = float(input('digite a taxa de crescimento de A em % :'))\n",
        "  B = int(input('digite a população da cidade B :'))\n",
        "  taxaB = float(input('digite a taxa de crescimento de B em % :'))\n",
        "  pergunta = input('Deseja corrigir os dados ? S-sim ou N-Não :')\n",
        "  if pergunta == 's'or pergunta == 'S':\n",
        "   continue\n",
        "  elif pergunta == 'n' or pergunta == 'N':\n",
        "    break\n",
        "  else:\n",
        "   print('opção errada vamos reiniciar as perguntas !')\n",
        "   continue\n",
        "\n",
        "anos = 0\n",
        "taxaA = taxaA / 100\n",
        "taxaB = taxaB / 100\n",
        "\n",
        "if A < B :\n",
        "  while A <= B:\n",
        "    A = A * (1 + taxaA)\n",
        "    B = B * (1 + taxaB)\n",
        "    anos +=1\n",
        "  print(f'A iguala B em {anos} anos')\n",
        "elif A > B:\n",
        "  while B <= A:\n",
        "   B = B * (1 + taxaB)\n",
        "   A = A * (1 + taxaA)\n",
        "   anos +=1\n",
        "  print(f'B iguala A em {anos} anos')\n",
        "else:\n",
        "  print('A e B tem populações iguais')\n"
      ],
      "metadata": {
        "id": "zuduS8lyGBjZ",
        "colab": {
          "base_uri": "https://localhost:8080/"
        },
        "outputId": "acaafc81-1ba8-4c7c-8566-c38af3d6617a"
      },
      "execution_count": null,
      "outputs": [
        {
          "output_type": "stream",
          "name": "stdout",
          "text": [
            "digite a populção da cidade A :2000\n",
            "digite a taxa de crescimento de A em % :1\n",
            "digite a populção da cidade B :1000\n",
            "digite a taxa de crescimento de B em % :2\n",
            "Deseja corrigir os dados ? S-sim ou N-Não :n\n",
            "2000\n",
            "1000\n",
            "B iguala A em 71 anos\n"
          ]
        }
      ]
    },
    {
      "cell_type": "markdown",
      "source": [
        "## 6 - Faça um programa que imprima na tela os números de 1 a 20, um abaixo do outro. Depois modifique o programa para que ele mostre os números um ao lado do outro."
      ],
      "metadata": {
        "id": "fYVvVBh9GDDm"
      }
    },
    {
      "cell_type": "code",
      "source": [
        "for i in range(20):\n",
        "  print(i + 1,end=\" \")"
      ],
      "metadata": {
        "id": "7dPOwh-QGLBW",
        "colab": {
          "base_uri": "https://localhost:8080/"
        },
        "outputId": "163c572d-977e-4c9a-ac0d-f71039a1d137"
      },
      "execution_count": null,
      "outputs": [
        {
          "output_type": "stream",
          "name": "stdout",
          "text": [
            "1 2 3 4 5 6 7 8 9 10 11 12 13 14 15 16 17 18 19 20 "
          ]
        }
      ]
    },
    {
      "cell_type": "markdown",
      "source": [
        "## 7 - Faça um programa que leia 5 números e informe o maior número."
      ],
      "metadata": {
        "id": "PZCplebIGRKS"
      }
    },
    {
      "cell_type": "code",
      "source": [
        "i = 0\n",
        "maior_numero = float('-inf')  # Inicializa com um valor negativo infinitamente pequeno\n",
        "\n",
        "while i < 5:\n",
        "    numero = float(input('Digite um número: '))\n",
        "\n",
        "    if numero > maior_numero:\n",
        "        maior_numero = numero\n",
        "\n",
        "    i += 1\n",
        "\n",
        "print('O maior número é:', maior_numero)\n"
      ],
      "metadata": {
        "id": "PiSmW_X5GYcZ",
        "colab": {
          "base_uri": "https://localhost:8080/"
        },
        "outputId": "62cd4951-2ef5-431c-c355-07862bdf8daa"
      },
      "execution_count": null,
      "outputs": [
        {
          "output_type": "stream",
          "name": "stdout",
          "text": [
            "Digite um número: 5\n",
            "Digite um número: 10\n",
            "Digite um número: 15\n",
            "Digite um número: 1000\n",
            "Digite um número: 2\n",
            "O maior número é: 1000.0\n"
          ]
        }
      ]
    },
    {
      "cell_type": "markdown",
      "source": [
        "## 8 - Faça um programa que leia 5 números e informe a soma e a média dos números."
      ],
      "metadata": {
        "id": "mpAbsUJQGZog"
      }
    },
    {
      "cell_type": "code",
      "source": [
        "i = 0\n",
        "indicador_da_nota =1\n",
        "somador = 0\n",
        "while i < 5:\n",
        "  numero = float(input(f'digite as nota {indicador_da_nota}: '))\n",
        "  somador += numero\n",
        "  indicador_da_nota += 1\n",
        "  i += 1\n",
        "media = somador/5\n",
        "print(f'a media dos numeros foi: {media}')"
      ],
      "metadata": {
        "id": "2Vz2yp_-GmkS",
        "colab": {
          "base_uri": "https://localhost:8080/"
        },
        "outputId": "b0df4ef3-2bf4-491e-90fe-add3ef3267d3"
      },
      "execution_count": null,
      "outputs": [
        {
          "output_type": "stream",
          "name": "stdout",
          "text": [
            "digite as nota 1: 7\n",
            "digite as nota 2: 6\n",
            "digite as nota 3: 4\n",
            "digite as nota 4: 8\n",
            "digite as nota 5: 2\n",
            "a media dos numeros foi: 5.4\n"
          ]
        }
      ]
    },
    {
      "cell_type": "markdown",
      "source": [
        "## 9 - Faça um programa que imprima na tela apenas os números ímpares entre 1 e 50."
      ],
      "metadata": {
        "id": "nxiLbdIXGtR3"
      }
    },
    {
      "cell_type": "code",
      "source": [
        "for i in range(1,50):\n",
        "  if i % 2 != 0 :\n",
        "    print(i,end=\" \")"
      ],
      "metadata": {
        "id": "rzqYVcCMGxof",
        "colab": {
          "base_uri": "https://localhost:8080/"
        },
        "outputId": "a3ca7318-f48e-4d77-8bdf-592ccace317e"
      },
      "execution_count": null,
      "outputs": [
        {
          "output_type": "stream",
          "name": "stdout",
          "text": [
            "1 3 5 7 9 11 13 15 17 19 21 23 25 27 29 31 33 35 37 39 41 43 45 47 49 "
          ]
        }
      ]
    },
    {
      "cell_type": "markdown",
      "source": [
        "## 10 - Faça um programa que receba dois números inteiros e gere os números inteiros que estão no intervalo compreendido por eles."
      ],
      "metadata": {
        "id": "EMvTRFo5G13I"
      }
    },
    {
      "cell_type": "code",
      "source": [
        "n1 = int(input('digite o primeiro numero : '))\n",
        "n2 = int(input('digite o segundo numero : '))\n",
        "\n",
        "for i in range (n1+1,n2):\n",
        "  print(i,end=\" \")"
      ],
      "metadata": {
        "id": "EjgL5eVfG6Wq",
        "colab": {
          "base_uri": "https://localhost:8080/"
        },
        "outputId": "c9937c90-a382-438e-d643-f0aea3171688"
      },
      "execution_count": null,
      "outputs": [
        {
          "output_type": "stream",
          "name": "stdout",
          "text": [
            "digite o primeiro numero : 1\n",
            "digite o segundo numero : 50\n",
            "2 3 4 5 6 7 8 9 10 11 12 13 14 15 16 17 18 19 20 21 22 23 24 25 26 27 28 29 30 31 32 33 34 35 36 37 38 39 40 41 42 43 44 45 46 47 48 49 "
          ]
        }
      ]
    },
    {
      "cell_type": "markdown",
      "source": [
        "## 11 - Altere o programa anterior para mostrar no final a soma dos números."
      ],
      "metadata": {
        "id": "Gl6ber1HG_zW"
      }
    },
    {
      "cell_type": "code",
      "source": [
        "n1 = int(input('digite o primeiro numero : '))\n",
        "n2 = int(input('digite o segundo numero : '))\n",
        "soma = 0\n",
        "for i in range (n1+1,n2):\n",
        "  print(i,end=\" \")\n",
        "  soma +=i\n",
        "print(f'\\na soma dos inteiros entre {n1} e {n2} é {soma}')"
      ],
      "metadata": {
        "id": "AAf4uuY4HDtj",
        "colab": {
          "base_uri": "https://localhost:8080/"
        },
        "outputId": "52d873ca-9adf-410e-e08a-56fbacae90e7"
      },
      "execution_count": null,
      "outputs": [
        {
          "output_type": "stream",
          "name": "stdout",
          "text": [
            "digite o primeiro numero : 1\n",
            "digite o segundo numero : 50\n",
            "2 3 4 5 6 7 8 9 10 11 12 13 14 15 16 17 18 19 20 21 22 23 24 25 26 27 28 29 30 31 32 33 34 35 36 37 38 39 40 41 42 43 44 45 46 47 48 49 \n",
            "a soma dos inteiros entre 1 e 50 é 1224\n"
          ]
        }
      ]
    },
    {
      "cell_type": "markdown",
      "source": [
        "## 12 - Desenvolva um gerador de tabuada, capaz de gerar a tabuada de qualquer número inteiro entre 1 a 10. O usuário deve informar de qual numero ele deseja ver a tabuada. A saída deve ser conforme o exemplo abaixo:\n",
        "    Tabuada de 5:\n",
        "    5 X 1 = 5\n",
        "    5 X 2 = 10\n",
        "    ...\n",
        "    5 X 10 = 50"
      ],
      "metadata": {
        "id": "PDlS_E74HJUG"
      }
    },
    {
      "cell_type": "code",
      "source": [
        "while True:\n",
        "  i = int(input('digite qual tabuada vc quer de 1 a 10 : '))\n",
        "  if 1 <= i <= 10:\n",
        "    break\n",
        "  else:\n",
        "    print('Número invalido.Tente Novamente')\n",
        "    continue\n",
        "resultado = 0\n",
        "print(f'Tabuada de {i}')\n",
        "for j in range(1,11):\n",
        "  resultado = i * j\n",
        "  print(f'{i} x {j} = {resultado}')\n"
      ],
      "metadata": {
        "id": "QUaM_D82HNGw",
        "colab": {
          "base_uri": "https://localhost:8080/"
        },
        "outputId": "9c98b186-6301-4ea8-9ede-9c193ee4c31d"
      },
      "execution_count": null,
      "outputs": [
        {
          "output_type": "stream",
          "name": "stdout",
          "text": [
            "digite qual tabuada vc quer de 1 a 10 : 9\n",
            "Tabuada de 9\n",
            "9 x 1 = 9\n",
            "9 x 2 = 18\n",
            "9 x 3 = 27\n",
            "9 x 4 = 36\n",
            "9 x 5 = 45\n",
            "9 x 6 = 54\n",
            "9 x 7 = 63\n",
            "9 x 8 = 72\n",
            "9 x 9 = 81\n",
            "9 x 10 = 90\n"
          ]
        }
      ]
    },
    {
      "cell_type": "markdown",
      "source": [
        "## 13 - Faça um programa que peça dois números, base e expoente, calcule e mostre o primeiro número elevado ao segundo número. Não utilize a função de potência da linguagem."
      ],
      "metadata": {
        "id": "ze31KAUrHXxU"
      }
    },
    {
      "cell_type": "code",
      "source": [
        "n1 = int(input('digite o base  : '))\n",
        "n2 = int(input('digite o expoente : '))\n",
        "potencia = n1 ** n2\n",
        "print(f'{n1} elevado a {n2} = {potencia}')"
      ],
      "metadata": {
        "id": "qYijN6b_He9V",
        "colab": {
          "base_uri": "https://localhost:8080/"
        },
        "outputId": "72f20681-2950-4331-c7ba-6f7d41f14429"
      },
      "execution_count": null,
      "outputs": [
        {
          "output_type": "stream",
          "name": "stdout",
          "text": [
            "digite o base  : 2\n",
            "digite o expoente : 128\n",
            "2 elevado a 128 = 340282366920938463463374607431768211456\n"
          ]
        }
      ]
    },
    {
      "cell_type": "markdown",
      "source": [
        "## 14 - Faça um programa que peça 10 números inteiros, calcule e mostre a quantidade de números pares e a quantidade de números impares"
      ],
      "metadata": {
        "id": "92qVW9mSHjm-"
      }
    },
    {
      "cell_type": "code",
      "source": [
        "count = 0\n",
        "pares = 0\n",
        "impares = 0\n",
        "falta = 10\n",
        "while count < 10:\n",
        "  numeros = int(input('digite 10 numeros :'))\n",
        "  falta -=1\n",
        "  print(f'faltam {falta} números')\n",
        "  if numeros % 2 == 0:\n",
        "    pares += 1\n",
        "  else:\n",
        "    impares +=1\n",
        "  count +=1\n",
        "\n",
        "print('quantidade de pares :',pares)\n",
        "print('quantidade de impares :',impares)"
      ],
      "metadata": {
        "id": "OIR-_76uHow5"
      },
      "execution_count": null,
      "outputs": []
    },
    {
      "cell_type": "markdown",
      "source": [
        "# 15 - A série de Fibonacci é formada pela seqüência 1,1,2,3,5,8,13,21,34,55,... Faça um programa capaz de gerar a série até o n−ésimo termo."
      ],
      "metadata": {
        "id": "75fBpMqFL-0P"
      }
    },
    {
      "cell_type": "code",
      "source": [
        "n = int(input('digite o N termos de fibonacci :'))\n",
        "j = 1\n",
        "i = 0\n",
        "fibo = []\n",
        "for k in range(1,n+1) :\n",
        "  fibo.append(j)\n",
        "  t = i + j\n",
        "  i = j\n",
        "  j = t\n",
        "print(fibo)"
      ],
      "metadata": {
        "colab": {
          "base_uri": "https://localhost:8080/"
        },
        "id": "LMd0j6fuMEzm",
        "outputId": "dfcaa00a-d2b6-4174-8a42-f6a8a3bd3fdc"
      },
      "execution_count": null,
      "outputs": [
        {
          "output_type": "stream",
          "name": "stdout",
          "text": [
            "digite o N termos de fibonacci :10\n",
            "[1, 1, 2, 3, 5, 8, 13, 21, 34, 55]\n"
          ]
        }
      ]
    },
    {
      "cell_type": "markdown",
      "source": [
        "# 16 - A série de Fibonacci é formada pela seqüência 0,1,1,2,3,5,8,13,21,34,55,... Faça um programa que gere a série até que o valor seja maior que 500."
      ],
      "metadata": {
        "id": "9mo-Pf3NMF3d"
      }
    },
    {
      "cell_type": "code",
      "source": [
        "i = 0\n",
        "j = 1\n",
        "fibo = []\n",
        "while j <= 500:\n",
        "    fibo.append(j)\n",
        "    t = i + j\n",
        "    i = j\n",
        "    j = t\n",
        "print(f\"Série de Fibonacci até que o valor seja maior que 500: {fibo}\")"
      ],
      "metadata": {
        "id": "0omJJ563MLpU",
        "colab": {
          "base_uri": "https://localhost:8080/"
        },
        "outputId": "85395cdf-d4e9-4b98-d62c-a78256a9b0fc"
      },
      "execution_count": null,
      "outputs": [
        {
          "output_type": "stream",
          "name": "stdout",
          "text": [
            "Série de Fibonacci até que o valor seja maior que 500: [1, 1, 2, 3, 5, 8, 13, 21, 34, 55, 89, 144, 233, 377]\n"
          ]
        }
      ]
    },
    {
      "cell_type": "markdown",
      "source": [
        "# 17 - Faça um programa que calcule o fatorial de um número inteiro fornecido pelo usuário. Ex.: 5!=5.4.3.2.1=120"
      ],
      "metadata": {
        "id": "L7MeJl-JMNEx"
      }
    },
    {
      "cell_type": "code",
      "source": [
        "fatorial = int(input('digite o numero a fatorar : '))\n",
        "lista =[]\n",
        "produto = 1\n",
        "for k in range(fatorial,0,-1):\n",
        "  lista.append(k)\n",
        "\n",
        "for z in lista: # z varre cade elemento da lista enquanto z diminui produto aumenta\n",
        "  produto *= z\n",
        "\n",
        "print(f\"{fatorial}! = \",produto)"
      ],
      "metadata": {
        "id": "-QzLnatrMT5s",
        "colab": {
          "base_uri": "https://localhost:8080/"
        },
        "outputId": "0f46930a-fd7f-4622-bdb3-1cb1608c4445"
      },
      "execution_count": null,
      "outputs": [
        {
          "output_type": "stream",
          "name": "stdout",
          "text": [
            "digite o numero a fatorar : 5\n",
            "5! =  120\n"
          ]
        }
      ]
    },
    {
      "cell_type": "markdown",
      "source": [
        "# 18 - Faça um programa que, dado um conjunto de N números, determine o menor valor, o maior valor e a soma dos valores."
      ],
      "metadata": {
        "id": "WxcaYmxYMXB8"
      }
    },
    {
      "cell_type": "code",
      "source": [
        "import random\n",
        "\n",
        "n = int(input('digite o tamanho do conjunto: '))\n",
        "conjunto = []\n",
        "for i in range (n):\n",
        " aleatorio = random.randint(1,n)\n",
        " conjunto.append(aleatorio)\n",
        "\n",
        "\n",
        "maioValor = max(conjunto)\n",
        "menorValor = min(conjunto)\n",
        "somaValores = sum(conjunto)\n",
        "print(f'o tamanho do conjuto foi de {n} valores')\n",
        "print(f'o conjunto de valores foi = {conjunto}')\n",
        "print(f'o menor valor foi = {menorValor}')\n",
        "print(f'o maior valor foi = {maioValor}')\n",
        "print(f'A soma dos valores foi = {somaValores}')\n"
      ],
      "metadata": {
        "id": "gMN39QAdMaec",
        "colab": {
          "base_uri": "https://localhost:8080/"
        },
        "outputId": "99acc9e4-e008-4907-d3c5-9b0cd0df39a5"
      },
      "execution_count": null,
      "outputs": [
        {
          "output_type": "stream",
          "name": "stdout",
          "text": [
            "digite o tamanho do conjunto: 10\n",
            "o tamanho do conjuto foi de 10 valores\n",
            "o conjunto de valores foi = [9, 2, 9, 1, 4, 2, 3, 10, 5, 8]\n",
            "o menor valor foi = 1\n",
            "o maior valor foi = 10\n",
            "A soma dos valores foi = 53\n"
          ]
        }
      ]
    },
    {
      "cell_type": "markdown",
      "source": [
        "# 19 - Altere o programa anterior para que ele aceite apenas números entre 0 e 1000."
      ],
      "metadata": {
        "id": "Dw9cHmcgMdqj"
      }
    },
    {
      "cell_type": "code",
      "source": [
        "import random\n",
        "\n",
        "while True:\n",
        "  n = int(input('digite o tamanho do conjunto: '))\n",
        "  if 0 <= n <= 1000:\n",
        "    conjunto = []\n",
        "    for i in range (n):\n",
        "      aleatorio = random.randint(1,n)\n",
        "      conjunto.append(aleatorio)\n",
        "    break\n",
        "  else:\n",
        "    print('faixa de valores incorreta,somente entre 0 e 1000')\n",
        "    continue\n",
        "\n",
        "\n",
        "maioValor = max(conjunto)\n",
        "menorValor = min(conjunto)\n",
        "somaValores = sum(conjunto)\n",
        "print(f'o tamanho do conjuto foi de {n} valores')\n",
        "print(f'o conjunto de valores foi = {conjunto}')\n",
        "print(f'o menor valor foi = {menorValor}')\n",
        "print(f'o maior valor foi = {maioValor}')\n",
        "print(f'A soma dos valores foi = {somaValores}')"
      ],
      "metadata": {
        "id": "yZvMhIJNMhLo",
        "colab": {
          "base_uri": "https://localhost:8080/"
        },
        "outputId": "62394b1c-9f18-494e-855b-00f986259523"
      },
      "execution_count": null,
      "outputs": [
        {
          "output_type": "stream",
          "name": "stdout",
          "text": [
            "digite o tamanho do conjunto: 10\n",
            "o tamanho do conjuto foi de 10 valores\n",
            "o conjunto de valores foi = [3, 3, 8, 2, 8, 4, 6, 9, 3, 9]\n",
            "o menor valor foi = 2\n",
            "o maior valor foi = 9\n",
            "A soma dos valores foi = 55\n"
          ]
        }
      ]
    },
    {
      "cell_type": "markdown",
      "source": [
        "# 20 - Altere o programa de cálculo do fatorial, permitindo ao usuário calcular o fatorial várias vezes e limitando o fatorial a números inteiros positivos e menores que 16."
      ],
      "metadata": {
        "id": "yLkKS99XMkdR"
      }
    },
    {
      "cell_type": "code",
      "source": [
        "while True:\n",
        "  fatorial = int(input('digite o numero a fatorar : '))\n",
        "  lista =[]\n",
        "  produto = 1\n",
        "  for k in range(fatorial,0,-1):\n",
        "    lista.append(k)\n",
        "  for z in lista: # z varre cade elemento da lista enquanto z diminui produto aumenta\n",
        "     produto *= z\n",
        "  if fatorial < 16 :\n",
        "    print(f\"{fatorial}! = \",produto)\n",
        "    continue\n",
        "  else:\n",
        "    break\n",
        "\n",
        "print(f\"só fatoro numero abaixo de 16!\\n FIM\")"
      ],
      "metadata": {
        "id": "0bom3kcxMnXe",
        "colab": {
          "base_uri": "https://localhost:8080/"
        },
        "outputId": "f55347b1-07ec-44c1-951d-2c9c9def9cf8"
      },
      "execution_count": null,
      "outputs": [
        {
          "output_type": "stream",
          "name": "stdout",
          "text": [
            "digite o numero a fatorar : 5\n",
            "5! =  120\n",
            "digite o numero a fatorar : 16\n",
            "só fatoro numero abaixo de 16 !\n",
            " FIM\n"
          ]
        }
      ]
    },
    {
      "cell_type": "markdown",
      "source": [
        "# 21 - Faça um programa que peça um número inteiro e determine se ele é ou não um número primo. Um número primo é aquele que é divisível somente por ele mesmo e por 1."
      ],
      "metadata": {
        "id": "1eIElSR9MoWD"
      }
    },
    {
      "cell_type": "code",
      "source": [
        "n=int(input('digite um numero : '))\n",
        "contador = 0\n",
        "for i in range(1, n + 1):\n",
        "  if n % i == 0:\n",
        "            contador += 1\n",
        "if contador == 2:\n",
        "        print('É Primo')\n",
        "else:\n",
        "        print('Não Primo')\n"
      ],
      "metadata": {
        "id": "YmpklaIlMtXT",
        "colab": {
          "base_uri": "https://localhost:8080/"
        },
        "outputId": "3b7964dd-2214-4f5d-e416-c67a9ed9672c"
      },
      "execution_count": null,
      "outputs": [
        {
          "output_type": "stream",
          "name": "stdout",
          "text": [
            "digite um numero : 5\n",
            "É Primo\n"
          ]
        }
      ]
    },
    {
      "cell_type": "markdown",
      "source": [
        "# 22 - Altere o programa de cálculo dos números primos, informando, caso o número não seja primo, por quais número ele é divisível."
      ],
      "metadata": {
        "id": "uo2NZ2kRMvOs"
      }
    },
    {
      "cell_type": "code",
      "source": [
        "n = int(input('digite um numero e verifico se é primo ou não :'))\n",
        "contador = 0\n",
        "lista_nao_primos = []\n",
        "for i in range (1,n+1):\n",
        "  if n % i == 0: # divide o numero quantas vezes for o tamanho dele\n",
        "    contador +=1 # conta o numero de vezes que foi dividido\n",
        "    divisoresNPrimos = i\n",
        "    lista_nao_primos.append(divisoresNPrimos)\n",
        "if contador == 2:\n",
        "  print('É Primo')\n",
        "else:\n",
        "  print(f'{n} possui estes divisores : {lista_nao_primos}\\n',end=\" \")\n",
        "  print(f' e {n} Não é Primo')"
      ],
      "metadata": {
        "id": "iTbax8bjM4r7",
        "colab": {
          "base_uri": "https://localhost:8080/"
        },
        "outputId": "3aa1c88d-0a44-49d7-9f71-b45d2369a154"
      },
      "execution_count": null,
      "outputs": [
        {
          "output_type": "stream",
          "name": "stdout",
          "text": [
            "digite um numero e verifico se é primo ou não :6\n",
            "6 possui estes divisores : [1, 2, 3, 6]\n",
            "  e 6 Não é Primo\n"
          ]
        }
      ]
    },
    {
      "cell_type": "markdown",
      "source": [
        "# 23 - Faça um programa que mostre todos os primos entre 1 e N sendo N um número inteiro fornecido pelo usuário. O programa deverá mostrar também o número de divisões que ele executou para encontrar os números primos. Serão avaliados o funcionamento, o estilo e o número de testes (divisões) executados."
      ],
      "metadata": {
        "id": "7hrVJ8-_M5uA"
      }
    },
    {
      "cell_type": "code",
      "source": [
        "n = int(input('digite o tamanho da lista:'))\n",
        "contador = 0\n",
        "lista =[]\n",
        "listafinal= []\n",
        "for i in range(1,n+1):\n",
        "  lista.append(i)\n",
        "\n",
        "for i in range(len(lista)):#parte que tive que consultar\n",
        "  if i > 1:               #parte que tive que consultar\n",
        "    for j in range(2,i):#parte que tive que consultar ,cheguei perto\n",
        "      if ( i % j == 0):\n",
        "        contador +=1\n",
        "        break\n",
        "    else:\n",
        "      listafinal.append(i)\n",
        "\n",
        "print(f'Os numeros primos entre 1 e {n} são : {listafinal}')\n",
        "print(f'quantidade de divisões : {contador}')"
      ],
      "metadata": {
        "id": "ma-xjXAmNAGG",
        "colab": {
          "base_uri": "https://localhost:8080/"
        },
        "outputId": "a0c2adbd-3882-4db3-a881-1c87b3eead71"
      },
      "execution_count": null,
      "outputs": [
        {
          "output_type": "stream",
          "name": "stdout",
          "text": [
            "digite o tamanho da lista:2\n",
            "Os numeros primos entre 1 e 2 são : []\n",
            "quantidade de divisões : 0\n"
          ]
        }
      ]
    },
    {
      "cell_type": "markdown",
      "source": [
        "# 24 - Faça um programa que calcule o mostre a média aritmética de N notas."
      ],
      "metadata": {
        "id": "vBnjCKp2NEZk"
      }
    },
    {
      "cell_type": "code",
      "source": [
        "lista_notas =[]\n",
        "contador_media = 0\n",
        "while True:\n",
        "  notas = float(input('digite a nota:'))\n",
        "  lista_notas.append(notas)\n",
        "  continuar = input('Aperte C para continuar,para Parar qualquer outra tecla')\n",
        "  if continuar == 'C' or continuar == 'c':\n",
        "    contador_media += 1\n",
        "    continue\n",
        "  else:\n",
        "    break\n",
        "\n",
        "somanotas = sum(lista_notas)\n",
        "media = somanotas / contador_media\n",
        "print(f'as notas digitadas foram : {lista_notas}')\n",
        "print(f'a media foi : {media}')\n"
      ],
      "metadata": {
        "id": "JeDUOoibNIYm",
        "colab": {
          "base_uri": "https://localhost:8080/"
        },
        "outputId": "2ccadc6f-ded1-40da-94a1-a593e3b041b1"
      },
      "execution_count": null,
      "outputs": [
        {
          "output_type": "stream",
          "name": "stdout",
          "text": [
            "digite a nota:5\n",
            "Aperte C para continuar,para Parar qualquer outra teclac\n",
            "digite a nota:5\n",
            "Aperte C para continuar,para Parar qualquer outra teclac\n",
            "digite a nota:5\n",
            "Aperte C para continuar,para Parar qualquer outra tecla5c\n",
            "as notas digitadas foram : [5.0, 5.0, 5.0]\n",
            "a media foi : 7.5\n"
          ]
        }
      ]
    },
    {
      "cell_type": "markdown",
      "source": [
        "# 25 - Faça um programa que peça para n pessoas a sua idade, ao final o programa devera verificar se a média de idade da turma varia entre 0 e 25,26 e 60 e maior que 60; e então, dizer se a turma é jovem, adulta ou idosa, conforme a média calculada."
      ],
      "metadata": {
        "id": "X7ZBRwUpNJYO"
      }
    },
    {
      "cell_type": "code",
      "source": [
        "turma = []\n",
        "while True:\n",
        "  idades = int(input('digite a idade :'))\n",
        "  turma.append(idades)\n",
        "  pergunta = input('continuar ? qualquer tecla continua P para parar :')\n",
        "  if pergunta == 'p' or pergunta == \"P\":\n",
        "    break\n",
        "  else:\n",
        "    continue\n",
        "\n",
        "soma = sum(turma)\n",
        "media = soma /len(turma)\n",
        "\n",
        "if  0 <= media <= 25 :\n",
        "  print(f'a media de idade da turma foi {media} anos')\n",
        "  print('Turma Jovem !')\n",
        "elif 26 <= media <= 60:\n",
        "  print(f'a media de idade da turma foi {media} anos')\n",
        "  print('Turma adulta !')\n",
        "else:\n",
        "  print(f'a media de idade da turma foi {media} anos')\n",
        "  print('Turma Idosa !')\n"
      ],
      "metadata": {
        "id": "lK37m8mnNO2B",
        "colab": {
          "base_uri": "https://localhost:8080/"
        },
        "outputId": "2ddf0d67-abe0-4e8e-a60c-c3d6055b5dd5"
      },
      "execution_count": null,
      "outputs": [
        {
          "output_type": "stream",
          "name": "stdout",
          "text": [
            "digite a idade :60\n",
            "continuar ? qualquer tecla continua P para parar :\n",
            "digite a idade :65\n",
            "continuar ? qualquer tecla continua P para parar :84\n",
            "digite a idade :92\n",
            "continuar ? qualquer tecla continua P para parar :p\n",
            "a media de idade da turma foi 72.33333333333333 anos\n",
            "Turma Idosa !\n"
          ]
        }
      ]
    },
    {
      "cell_type": "markdown",
      "source": [
        "# 26 - Numa eleição existem três candidatos. Faça um programa que peça o número total de eleitores. Peça para cada eleitor votar e ao final mostrar o número de votos de cada candidato."
      ],
      "metadata": {
        "id": "hXXLxFFBNQHL"
      }
    },
    {
      "cell_type": "code",
      "source": [
        "bolsonaro = 0\n",
        "lula = 0\n",
        "ciro = 0\n",
        "nulo = 0\n",
        "contador = 0\n",
        "eleitores = int(input('Digite o total de eleitores: '))\n",
        "\n",
        "while contador < eleitores:  # Consertado o operador para evitar uma iteração extra\n",
        "    print('Escolha o candidato:')\n",
        "    print(' 1-Bolsonaro 2-Lula 3-Ciro')\n",
        "    voto = int(input('Digite o número do seu candidato: '))\n",
        "\n",
        "    if voto == 1:\n",
        "        bolsonaro +=1\n",
        "    elif voto == 2:\n",
        "        lula += 1\n",
        "    elif voto == 3:\n",
        "        ciro += 1\n",
        "    else:\n",
        "        print('Número incorreto')\n",
        "        nulo += 1\n",
        "\n",
        "    contador += 1  # Movido para dentro do loop\n",
        "\n",
        "\n",
        "print(f'Bolsonaro = {bolsonaro} votos')\n",
        "print(f'Lula = {lula} votos')\n",
        "print(f'Ciro = {ciro} votos ')\n",
        "print(f'Nulos {nulo} votos')\n",
        "\n",
        "\n"
      ],
      "metadata": {
        "id": "Oszo7ah4NV4B"
      },
      "execution_count": null,
      "outputs": []
    },
    {
      "cell_type": "markdown",
      "source": [
        "# 27 - Faça um programa que calcule o número médio de alunos por turma. Para isto, peça a quantidade de turmas e a quantidade de alunos para cada turma. As turmas não podem ter mais de 40 alunos."
      ],
      "metadata": {
        "id": "2hLpsKOBNWzJ"
      }
    },
    {
      "cell_type": "code",
      "source": [
        "dic_turmas = {}\n",
        "quantidade_turma = int(input('digite a quantidade de turmas : '))\n",
        "qtde_alunos = 0\n",
        "for i in range(1,quantidade_turma+1):\n",
        "  qtde_alunos = int(input(f'digite a quantidade de alunos da turma {i} :'))\n",
        "  if qtde_alunos < 40 :\n",
        "    dic_turmas[i] = qtde_alunos # sem colchetes para pode atribuir o valor correto\n",
        "  else:\n",
        "      print('numero de alunos invalido',i)\n",
        "for key,value in dic_turmas.items():\n",
        " print(f'Turma {key} : {value} Alunos')\n",
        "media = sum(dic_turmas.values()) / len(dic_turmas)\n",
        "print(f'A média de alunos por turma foi: {media}')"
      ],
      "metadata": {
        "id": "pu-IIwD0Nc47",
        "colab": {
          "base_uri": "https://localhost:8080/"
        },
        "outputId": "03800436-ea27-45e1-be4e-23adc82da286"
      },
      "execution_count": null,
      "outputs": [
        {
          "output_type": "stream",
          "name": "stdout",
          "text": [
            "digite a quantidade de turmas : 3\n",
            "digite a quantidade de alunos da turma 1 :25\n",
            "digite a quantidade de alunos da turma 2 :30\n",
            "digite a quantidade de alunos da turma 3 :32\n",
            "Turma 1 : 25 Alunos\n",
            "Turma 2 : 30 Alunos\n",
            "Turma 3 : 32 Alunos\n",
            "A média de alunos por turma foi: 29.0\n"
          ]
        }
      ]
    },
    {
      "cell_type": "markdown",
      "source": [
        "# 28 - Faça um programa que calcule o valor total investido por um colecionador em sua coleção de CDs e o valor médio gasto em cada um deles. O usuário deverá informar a quantidade de CDs e o valor para em cada um."
      ],
      "metadata": {
        "id": "IDJ2UEofNd0I"
      }
    },
    {
      "cell_type": "code",
      "source": [
        "qtde_cds= int(input('digite a quantidade de Cds:'))\n",
        "loop = 0\n",
        "lista_valores_cds = []\n",
        "dic_cds = {}\n",
        "contador = 1\n",
        "while loop < qtde_cds:\n",
        "  valor_cd = float(input(f'digite o valor do CD {contador} R$: '))\n",
        "  lista_valores_cds.append(valor_cd)\n",
        "  dic_cds[contador] = valor_cd\n",
        "  loop += 1\n",
        "  contador += 1\n",
        "media= sum(lista_valores_cds)/len(lista_valores_cds)\n",
        "\n",
        "print(f'Total de CDs = {qtde_cds}')\n",
        "print(f'O valor médio foi R$: {media:.2f}')\n",
        "for key,value in dic_cds.items():\n",
        " print(f'CD {key} : {value} Reais')"
      ],
      "metadata": {
        "id": "hULFpwe0Nq8n",
        "colab": {
          "base_uri": "https://localhost:8080/"
        },
        "outputId": "97543a74-e3f2-4e43-b806-4ab2d7d1d3a2"
      },
      "execution_count": null,
      "outputs": [
        {
          "output_type": "stream",
          "name": "stdout",
          "text": [
            "digite a quantidade de Cds:5\n",
            "digite o valor do CD 1 R$: 10\n",
            "digite o valor do CD 2 R$: 2\n",
            "digite o valor do CD 3 R$: 30\n",
            "digite o valor do CD 4 R$: 45\n",
            "digite o valor do CD 5 R$: 26\n",
            "Total de CDs = 5\n",
            "O valor médio foi R$: 22.60\n",
            "CD 1 : 10.0 Reais\n",
            "CD 2 : 2.0 Reais\n",
            "CD 3 : 30.0 Reais\n",
            "CD 4 : 45.0 Reais\n",
            "CD 5 : 26.0 Reais\n"
          ]
        }
      ]
    },
    {
      "cell_type": "markdown",
      "source": [
        "\n",
        "# 29 - O Sr. Manoel Joaquim possui uma grande loja de artigos de R$ 1,99, com cerca de 10 caixas. Para agilizar o cálculo de quanto cada cliente deve pagar ele desenvolveu um tabela que contém o número de itens que o cliente comprou e ao lado o valor da conta. Desta forma a atendente do caixa precisa apenas contar quantos itens o cliente está levando e olhar na tabela de preços. Você foi contratado para desenvolver o programa que monta esta tabela de preços, que conterá os preços de 1 até 50 produtos, conforme o exemplo abaixo:\n",
        "\n",
        "    Lojas Quase Dois - Tabela de preços\n",
        "    1 - R$ 1.99\n",
        "    2 - R$ 3.98\n",
        "    ...\n",
        "    50 - R$ 99.50"
      ],
      "metadata": {
        "id": "daorav-HNpUu"
      }
    },
    {
      "cell_type": "code",
      "source": [
        "contador = 0\n",
        "dicionario = {}\n",
        "proximo_preco = 0\n",
        "item = 1\n",
        "while contador < 50:\n",
        "    proximo_preco += 1.99\n",
        "    dicionario[item] = proximo_preco\n",
        "    item +=1\n",
        "    contador +=1\n",
        "print('Loja quase dois-Tabela de Preços')\n",
        "for key,value in dicionario.items():\n",
        " print(f' {key} - R$ {value:.2f} ')"
      ],
      "metadata": {
        "id": "7AK5nkLxNjZm",
        "colab": {
          "base_uri": "https://localhost:8080/"
        },
        "outputId": "5630234e-516a-4013-b3a0-5bb5901495f0"
      },
      "execution_count": null,
      "outputs": [
        {
          "output_type": "stream",
          "name": "stdout",
          "text": [
            "Loja quase dois-Tabela de Preços\n",
            " 1 - R$ 1.99 \n",
            " 2 - R$ 3.98 \n",
            " 3 - R$ 5.97 \n",
            " 4 - R$ 7.96 \n",
            " 5 - R$ 9.95 \n",
            " 6 - R$ 11.94 \n",
            " 7 - R$ 13.93 \n",
            " 8 - R$ 15.92 \n",
            " 9 - R$ 17.91 \n",
            " 10 - R$ 19.90 \n",
            " 11 - R$ 21.89 \n",
            " 12 - R$ 23.88 \n",
            " 13 - R$ 25.87 \n",
            " 14 - R$ 27.86 \n",
            " 15 - R$ 29.85 \n",
            " 16 - R$ 31.84 \n",
            " 17 - R$ 33.83 \n",
            " 18 - R$ 35.82 \n",
            " 19 - R$ 37.81 \n",
            " 20 - R$ 39.80 \n",
            " 21 - R$ 41.79 \n",
            " 22 - R$ 43.78 \n",
            " 23 - R$ 45.77 \n",
            " 24 - R$ 47.76 \n",
            " 25 - R$ 49.75 \n",
            " 26 - R$ 51.74 \n",
            " 27 - R$ 53.73 \n",
            " 28 - R$ 55.72 \n",
            " 29 - R$ 57.71 \n",
            " 30 - R$ 59.70 \n",
            " 31 - R$ 61.69 \n",
            " 32 - R$ 63.68 \n",
            " 33 - R$ 65.67 \n",
            " 34 - R$ 67.66 \n",
            " 35 - R$ 69.65 \n",
            " 36 - R$ 71.64 \n",
            " 37 - R$ 73.63 \n",
            " 38 - R$ 75.62 \n",
            " 39 - R$ 77.61 \n",
            " 40 - R$ 79.60 \n",
            " 41 - R$ 81.59 \n",
            " 42 - R$ 83.58 \n",
            " 43 - R$ 85.57 \n",
            " 44 - R$ 87.56 \n",
            " 45 - R$ 89.55 \n",
            " 46 - R$ 91.54 \n",
            " 47 - R$ 93.53 \n",
            " 48 - R$ 95.52 \n",
            " 49 - R$ 97.51 \n",
            " 50 - R$ 99.50 \n"
          ]
        }
      ]
    },
    {
      "cell_type": "markdown",
      "source": [
        "# 30 - O Sr. Manoel Joaquim acaba de adquirir uma panificadora e pretende implantar a metodologia da tabelinha, que já é um sucesso na sua loja de 1,99. Você foi contratado para desenvolver o programa que monta a tabela de preços de pães, de 1 até 50 pães, a partir do preço do pão informado pelo usuário, conforme o exemplo abaixo:\n",
        "\n",
        "    Preço do pão: R$ 0.18\n",
        "    Panificadora Pão de Ontem - Tabela de preços\n",
        "    1 - R$ 0.18\n",
        "    2 - R$ 0.36\n",
        "    ...\n",
        "    50 - R$ 9.00"
      ],
      "metadata": {
        "id": "UGy49RtcNv2R"
      }
    },
    {
      "cell_type": "code",
      "source": [
        "preco_pao = float(input('Preço do Pão: R$ '))\n",
        "contador = 0\n",
        "dicionario = {}\n",
        "proximo_preco = 0\n",
        "item = 1\n",
        "while contador < 50:\n",
        "    proximo_preco += preco_pao\n",
        "    dicionario[item] = proximo_preco\n",
        "    item +=1\n",
        "    contador +=1\n",
        "print('Panificador Pão de Ontem-Tabela de Preços')\n",
        "for key,value in dicionario.items():\n",
        " print(f' {key} - R$ {value:.2f} ')"
      ],
      "metadata": {
        "id": "HhtyiebDOGtC"
      },
      "execution_count": null,
      "outputs": []
    },
    {
      "cell_type": "markdown",
      "source": [
        "### 31 - O Sr. Manoel Joaquim expandiu seus negócios para além dos negócios de 1,99 e agora possui uma loja de conveniências. Faça um programa que implemente uma caixa registradora rudimentar. O programa deverá receber um número desconhecido de valores referentes aos preços das mercadorias. Um valor zero deve ser informado pelo operador para indicar o final da compra. O programa deve então mostrar o total da compra e perguntar o valor em dinheiro que o cliente forneceu, para então calcular e mostrar o valor do troco. Após esta operação, o programa deverá voltar ao ponto inicial, para registrar a próxima compra. A saída deve ser conforme o exemplo abaixo:\n",
        "\n",
        "    Lojas Tabajara\n",
        "    Produto 1: R$ 2.20\n",
        "    Produto 2: R$ 5.80\n",
        "    Produto 3: R$ 0\n",
        "    Total: R$ 9.00\n",
        "    Dinheiro: R$ 20.00\n",
        "    Troco: R$ 11.00\n",
        "    ..."
      ],
      "metadata": {
        "id": "s6u3vJzGOHuN"
      }
    },
    {
      "cell_type": "code",
      "source": [
        "dic_produtos = {}\n",
        "cont_prod = 1\n",
        "soma = 0\n",
        "index_produto = 1\n",
        "while True:\n",
        "  valores = float(input('Valor do Produto R$ :\\n(Digite  0 zero para finalizar )'))\n",
        "  dic_produtos[index_produto] = valores\n",
        "  soma += valores\n",
        "  index_produto +=1\n",
        "  if valores == 0:\n",
        "    print('Lojas Tabajara')\n",
        "    dinheiro = float(input('Dinheiro : '))\n",
        "    break\n",
        "  else:\n",
        "    continue\n",
        "for key,value in dic_produtos.items():\n",
        " print(f'Produto {key} - R$ {value:.2f} ')\n",
        "\n",
        "\n",
        "if dinheiro > soma :\n",
        "  troco = dinheiro - soma\n",
        "  print(f'Total : R$ {soma:.2f}')\n",
        "  print(f'Dinheiro : R$ {dinheiro:.2f}')\n",
        "  print(f'Troco : R$ {troco:.2f}')\n",
        "else:\n",
        "  print('Não a troco a ser feito')\n",
        "  print(f'Total : R$ {soma:.2f}')\n",
        "  print(f'Dinheiro : R$ {dinheiro:.2f}')"
      ],
      "metadata": {
        "id": "B89jPkPp5lG-"
      },
      "execution_count": null,
      "outputs": []
    },
    {
      "cell_type": "markdown",
      "source": [
        "# 32 - Faça um programa que calcule o fatorial de um número inteiro fornecido pelo usuário. Ex.: 5!=5.4.3.2.1=120. A saída deve ser conforme o exemplo abaixo:\n",
        "\n",
        "    Fatorial de: 5\n",
        "    5! =  5 . 4 . 3 . 2 . 1 = 120"
      ],
      "metadata": {
        "id": "sWTJvULyOWi7"
      }
    },
    {
      "cell_type": "code",
      "source": [
        "fatorial = int(input('digite o numero a fatorar : '))\n",
        "lista =[]\n",
        "produto = 1\n",
        "for k in range(fatorial,0,-1):\n",
        "  lista.append(k)\n",
        "\n",
        "for z in lista: # z varre cade elemento da lista enquanto z diminui produto aumenta\n",
        "  produto *= z\n",
        "\n",
        "strings_lista = [str(item) for item in lista]#tranforma em string\n",
        "resultado = ' . '.join(strings_lista)#metodo para colocar os pontos\n",
        "print(f\"fatorial de : {fatorial}\")\n",
        "print(fatorial,'! =',resultado,\"=\",produto)\n",
        "\n"
      ],
      "metadata": {
        "id": "3Um3aVEfOjKx",
        "colab": {
          "base_uri": "https://localhost:8080/"
        },
        "outputId": "2822f840-b025-41c2-8ffc-8a82025357a0"
      },
      "execution_count": null,
      "outputs": [
        {
          "output_type": "stream",
          "name": "stdout",
          "text": [
            "digite o numero a fatorar : 5\n",
            "fatorial de : 5\n",
            "5 ! = 5 . 4 . 3 . 2 . 1 = 120\n"
          ]
        }
      ]
    },
    {
      "cell_type": "markdown",
      "source": [
        "# 33 - O Departamento Estadual de Meteorologia lhe contratou para desenvolver um programa que leia as um conjunto indeterminado de temperaturas, e informe ao final a menor e a maior temperaturas informadas, bem como a média das temperaturas."
      ],
      "metadata": {
        "id": "2abycimPL2jI"
      }
    },
    {
      "cell_type": "code",
      "source": [
        "import statistics\n",
        "lista_temperaturas =[]\n",
        "while True:\n",
        "  temp = float(input('digite a temperatura :'))\n",
        "  continua = input('Deseja Continuar ? S-sim / N-não ')\n",
        "  lista_temperaturas.append(temp)\n",
        "  if continua == 'S'or continua == 's':\n",
        "    continue\n",
        "  elif continua =='N' or continua =='n':\n",
        "    break\n",
        "  else:\n",
        "    continue\n",
        "media = statistics.mean(lista_temperaturas)\n",
        "maior_valor = max(lista_temperaturas)\n",
        "menor_valor = min(lista_temperaturas)\n",
        "print(f'a media das temperaturas foi : {media}')\n",
        "print(f'a menor temperatura foi : {menor_valor}')\n",
        "print(f'a maior temperatura foi : {maior_valor}')"
      ],
      "metadata": {
        "id": "uHYLm_ZqL7dy",
        "colab": {
          "base_uri": "https://localhost:8080/"
        },
        "outputId": "ed7d247b-3935-4e3a-a9cb-41db7fe14b54"
      },
      "execution_count": null,
      "outputs": [
        {
          "output_type": "stream",
          "name": "stdout",
          "text": [
            "digite a temperatura :15\n",
            "Deseja Continuar ? S-sim / N-não s\n",
            "digite a temperatura :30\n",
            "Deseja Continuar ? S-sim / N-não s\n",
            "digite a temperatura :45\n",
            "Deseja Continuar ? S-sim / N-não s\n",
            "digite a temperatura :60\n",
            "Deseja Continuar ? S-sim / N-não n\n",
            "a media das temperaturas foi : 37.5\n",
            " a menor temperatura foi : 15.0\n",
            "a maior temperatura foi : 60.0\n"
          ]
        }
      ]
    },
    {
      "cell_type": "markdown",
      "source": [
        "# 34 - Os números primos possuem várias aplicações dentro da Computação, por exemplo na Criptografia. Um número primo é aquele que é divisível apenas por um e por ele mesmo. Faça um programa que peça um número inteiro e determine se ele é ou não um número primo."
      ],
      "metadata": {
        "id": "_1T9-MDcL9Bi"
      }
    },
    {
      "cell_type": "code",
      "source": [
        "n=int(input('digite um numero : '))\n",
        "contador = 0\n",
        "for i in range(1, n + 1):\n",
        "  if n % i == 0:\n",
        "            contador += 1\n",
        "if contador == 2:\n",
        "        print('É Primo')\n",
        "else:\n",
        "        print('Não Primo')\n",
        "\n"
      ],
      "metadata": {
        "id": "_ZuTy5mYMDms",
        "colab": {
          "base_uri": "https://localhost:8080/"
        },
        "outputId": "d64254d6-1897-4375-fae0-438c39f377b9"
      },
      "execution_count": null,
      "outputs": [
        {
          "output_type": "stream",
          "name": "stdout",
          "text": [
            "digite um numero : 5\n",
            "É Primo\n"
          ]
        }
      ]
    },
    {
      "cell_type": "markdown",
      "source": [
        "# 35 - Encontrar números primos é uma tarefa difícil. Faça um programa que gera uma lista dos números primos existentes entre 1 e um número inteiro informado pelo usuário."
      ],
      "metadata": {
        "id": "pv5x0AvmMEkl"
      }
    },
    {
      "cell_type": "code",
      "source": [
        "n = int(input('Digite um número: '))\n",
        "listaPrimos = []\n",
        "listafinal = []\n",
        "\n",
        "for i in range(1, n + 1):\n",
        "    listaPrimos.append(i)\n",
        "\n",
        "for primo in listaPrimos:\n",
        "    contador = 0  # Reinicia o contador para cada número primo\n",
        "    for i in range(1, primo + 1):  # Começando do 1 até o próprio número primo\n",
        "        if primo % i == 0:\n",
        "            contador += 1\n",
        "\n",
        "    if contador == 2:\n",
        "        listafinal.append(primo)\n",
        "\n",
        "print(\"Números primos até\", n, \":\", listafinal)"
      ],
      "metadata": {
        "id": "f9yZ56wGMMDY",
        "colab": {
          "base_uri": "https://localhost:8080/"
        },
        "outputId": "603b4118-4398-4051-9d77-1e0ad9cd43b2"
      },
      "execution_count": null,
      "outputs": [
        {
          "output_type": "stream",
          "name": "stdout",
          "text": [
            "Digite um número: 10\n",
            "Números primos até 10 : [2, 3, 5, 7]\n"
          ]
        }
      ]
    },
    {
      "cell_type": "markdown",
      "source": [
        "# 36 - Desenvolva um programa que faça a tabuada de um número qualquer inteiro que será digitado pelo usuário, mas a tabuada não deve necessariamente iniciar em 1 e terminar em 10, o valor inicial e final devem ser informados também pelo usuário, conforme exemplo abaixo:\n",
        "    Montar a tabuada de: 5\n",
        "    Começar por: 4\n",
        "    Terminar em: 7\n",
        "\n",
        "    Vou montar a tabuada de 5 começando em 4 e terminando em 7:\n",
        "    5 X 4 = 20\n",
        "    5 X 5 = 25\n",
        "    5 X 6 = 30\n",
        "    5 X 7 = 35\n",
        "\n",
        "Obs: Você deve verificar se o usuário não digitou o final menor que o inicial."
      ],
      "metadata": {
        "id": "6dXGYHHtMNXe"
      }
    },
    {
      "cell_type": "code",
      "source": [
        "while True:# while true começa do inicio\n",
        "    tab = int(input('Montar a tabuada de: '))\n",
        "    com = int(input('Começar por: '))\n",
        "    term = int(input('Terminar em: '))\n",
        "    resultado = 0\n",
        "\n",
        "    if com <= term:\n",
        "        print(f'Vou montar a tabuada de {tab} começando em {com} e terminando em {term}:')\n",
        "        while com <= term:\n",
        "            resultado = tab * com\n",
        "            print(f'{tab} x {com} = {resultado}')\n",
        "            com += 1\n",
        "        break\n",
        "    else:\n",
        "        print('O começo precisa ser menor que o final. Por favor, digite novamente.')\n",
        "        # não precisa de continue"
      ],
      "metadata": {
        "id": "sbhyl9wuMrid",
        "colab": {
          "base_uri": "https://localhost:8080/"
        },
        "outputId": "4ddefb32-1c0e-471f-9287-590a3c6fa030"
      },
      "execution_count": null,
      "outputs": [
        {
          "output_type": "stream",
          "name": "stdout",
          "text": [
            "Montar a tabuada de: 5\n",
            "Começar por: 7\n",
            "Terminar em: 4\n",
            "O começo precisa ser menor que o final. Por favor, digite novamente.\n",
            "Montar a tabuada de: 5\n",
            "Começar por: 4\n",
            "Terminar em: 7\n",
            "Vou montar a tabuada de 5 começando em 4 e terminando em 7:\n",
            "5 x 4 = 20\n",
            "5 x 5 = 25\n",
            "5 x 6 = 30\n",
            "5 x 7 = 35\n"
          ]
        }
      ]
    },
    {
      "cell_type": "markdown",
      "source": [
        "# 37 - Uma academia deseja fazer um senso entre seus clientes para descobrir o mais alto, o mais baixo, a mais gordo e o mais magro, para isto você deve fazer um programa que pergunte a cada um dos clientes da academia seu código, sua altura e seu peso. O final da digitação de dados deve ser dada quando o usuário digitar 0 (zero) no campo código. Ao encerrar o programa também deve ser informados os códigos e valores do clente mais alto, do mais baixo, do mais gordo e do mais magro, além da média das alturas e dos pesos dos clientes"
      ],
      "metadata": {
        "id": "tGEJyFvCMgbA"
      }
    },
    {
      "cell_type": "code",
      "source": [
        "clientes = []  # Lista para armazenar os dicionários de clientes\n",
        "\n",
        "while True:\n",
        "    codigo = int(input('Digite o código do cliente, digite 0 para parar: '))\n",
        "\n",
        "    if codigo == 0:\n",
        "        break\n",
        "    else:\n",
        "        pessoa = {'codigo': codigo}\n",
        "        altura = float(input('Digite sua altura, use . para separar: '))\n",
        "        pessoa['altura'] = altura\n",
        "        peso = int(input('Digite seu peso: '))\n",
        "        pessoa['peso'] = peso\n",
        "\n",
        "        clientes.append(pessoa)  # Adiciona o dicionário à lista de clientes\n",
        "\n",
        "# Verifica se existem clientes na lista\n",
        "if clientes:\n",
        "    # Encontra o cliente mais alto, mais baixo, mais gordo e mais magro\n",
        "    mais_alto = max(clientes, key=lambda x: x['altura'])\n",
        "    mais_baixo = min(clientes, key=lambda x: x['altura'])\n",
        "    mais_gordo = max(clientes, key=lambda x: x['peso'])\n",
        "    mais_magro = min(clientes, key=lambda x: x['peso'])\n",
        "\n",
        "    # Calcula a média das alturas e pesos\n",
        "    media_alturas = sum(cliente['altura'] for cliente in clientes) / len(clientes)\n",
        "    media_pesos = sum(cliente['peso'] for cliente in clientes) / len(clientes)\n",
        "\n",
        "    # Exibe informações\n",
        "    print('\\nInformações dos clientes:')\n",
        "    for cliente in clientes:\n",
        "        print(f'Código: {cliente[\"codigo\"]}, Altura: {cliente[\"altura\"]}, Peso: {cliente[\"peso\"]}')\n",
        "\n",
        "    print('\\nCliente mais alto:')\n",
        "    print(f'Código: {mais_alto[\"codigo\"]}, Altura: {mais_alto[\"altura\"]}, Peso: {mais_alto[\"peso\"]}')\n",
        "\n",
        "    print('\\nCliente mais baixo:')\n",
        "    print(f'Código: {mais_baixo[\"codigo\"]}, Altura: {mais_baixo[\"altura\"]}, Peso: {mais_baixo[\"peso\"]}')\n",
        "\n",
        "    print('\\nCliente mais gordo:')\n",
        "    print(f'Código: {mais_gordo[\"codigo\"]}, Altura: {mais_gordo[\"altura\"]}, Peso: {mais_gordo[\"peso\"]}')\n",
        "\n",
        "    print('\\nCliente mais magro:')\n",
        "    print(f'Código: {mais_magro[\"codigo\"]}, Altura: {mais_magro[\"altura\"]}, Peso: {mais_magro[\"peso\"]}')\n",
        "\n",
        "    print(f'\\nMédia das alturas: {media_alturas:.2f}')\n",
        "    print(f'Média dos pesos: {media_pesos:.2f}')\n",
        "\n",
        "else:\n",
        "    print('Nenhum cliente foi registrado.')"
      ],
      "metadata": {
        "colab": {
          "base_uri": "https://localhost:8080/"
        },
        "id": "vP-Uh_zmJe2S",
        "outputId": "4f45c2a2-0790-45a0-a809-ee4d370601a5"
      },
      "execution_count": null,
      "outputs": [
        {
          "output_type": "stream",
          "name": "stdout",
          "text": [
            "Digite o código do cliente, digite 0 para parar: 1\n",
            "Digite sua altura, use . para separar: 1.77\n",
            "Digite seu peso: 60\n",
            "Digite o código do cliente, digite 0 para parar: 2\n",
            "Digite sua altura, use . para separar: 1.80\n",
            "Digite seu peso: 118\n",
            "Digite o código do cliente, digite 0 para parar: 0\n",
            "\n",
            "Informações dos clientes:\n",
            "Código: 1, Altura: 1.77, Peso: 60\n",
            "Código: 2, Altura: 1.8, Peso: 118\n",
            "\n",
            "Cliente mais alto:\n",
            "Código: 2, Altura: 1.8, Peso: 118\n",
            "\n",
            "Cliente mais baixo:\n",
            "Código: 1, Altura: 1.77, Peso: 60\n",
            "\n",
            "Cliente mais gordo:\n",
            "Código: 2, Altura: 1.8, Peso: 118\n",
            "\n",
            "Cliente mais magro:\n",
            "Código: 1, Altura: 1.77, Peso: 60\n",
            "\n",
            "Média das alturas: 1.79\n",
            "Média dos pesos: 89.00\n"
          ]
        }
      ]
    },
    {
      "cell_type": "markdown",
      "source": [
        "# 38 - Um funcionário de uma empresa recebe aumento salarial anualmente: Sabe-se que:\n",
        " A - Esse funcionário foi contratado em 1995, com salário inicial de R$ 1.000,00;\n",
        "\n",
        "B - Em 1996 recebeu aumento de 1,5% sobre seu salário inicial;\n",
        "\n",
        "C - A partir de 1997 (inclusive), os aumentos salariais sempre correspondem ao dobro do percentual do ano anterior. Faça um programa que determine o salário atual desse funcionário. Após concluir isto, altere o programa permitindo que o usuário digite o salário inicial do funcionário."
      ],
      "metadata": {
        "id": "6t4IaAvDMyvS"
      }
    },
    {
      "cell_type": "code",
      "source": [
        "salario_inicial = int(input('digite o salario inicial em 1995 :'))\n",
        "percentual = 0\n",
        "ano =1995\n",
        "percentual = (0.015)\n",
        "ano_atual = 2023\n",
        "salario_atual = 0\n",
        "\n",
        "while ano <= ano_atual:\n",
        "   salario_atual = salario_inicial * (percentual +1)\n",
        "   percentual *= 2\n",
        "   ano += 1\n",
        "print(f'O salário atual em {ano_atual} é de R$: {salario_atual:.2f}')\n",
        "print(f'O percentual acumulado foi de: {percentual * 100:.2f}%')"
      ],
      "metadata": {
        "id": "OBBicaxHUZVn",
        "colab": {
          "base_uri": "https://localhost:8080/"
        },
        "outputId": "89c481bd-9010-4f3b-8aa0-3bec020d3d97"
      },
      "execution_count": null,
      "outputs": [
        {
          "output_type": "stream",
          "name": "stdout",
          "text": [
            "digite o salario inicial em 1995 :250\n",
            "O salário atual em 2023 é de R$: 1006633210.00\n",
            "O percentual acumulado foi de: 805306368.00%\n"
          ]
        }
      ]
    },
    {
      "cell_type": "markdown",
      "source": [
        "# 39 - Faça um programa que leia dez conjuntos de dois valores, o primeiro representando o número do aluno e o segundo representando a sua altura em centímetros. Encontre o aluno mais alto e o mais baixo. Mostre o número do aluno mais alto e o número do aluno mais baixo, junto com suas alturas."
      ],
      "metadata": {
        "id": "fy0RC8UINKRB"
      }
    },
    {
      "cell_type": "code",
      "source": [
        "alunos = []\n",
        "contador = 0\n",
        "\n",
        "while contador < 10:\n",
        "    codigo = int(input('Digite o código do aluno: '))\n",
        "    aluno = {'codigo': codigo}\n",
        "    altura = int(input('Digite a altura do aluno em cms: '))\n",
        "    aluno['altura'] = altura\n",
        "    alunos.append(aluno)\n",
        "\n",
        "    contador += 1\n",
        "\n",
        "if alunos:\n",
        "    # Encontra o aluno mais alto e mais baixo\n",
        "    mais_alto = max(alunos, key=lambda x: x['altura'])\n",
        "    mais_baixo = min(alunos, key=lambda x: x['altura'])\n",
        "\n",
        "    print('\\nInformações dos Alunos:')\n",
        "    for aluno in alunos:\n",
        "        print(f'Código: {aluno[\"codigo\"]}, Altura: {aluno[\"altura\"]}')\n",
        "\n",
        "    print('\\nAluno mais alto:')\n",
        "    print(f'Código: {mais_alto[\"codigo\"]}, Altura: {mais_alto[\"altura\"]}')\n",
        "\n",
        "    print('\\nAluno mais baixo:')\n",
        "    print(f'Código: {mais_baixo[\"codigo\"]}, Altura: {mais_baixo[\"altura\"]}')\n",
        "else:\n",
        "    print('Nenhum aluno foi registrado.')\n",
        "\n"
      ],
      "metadata": {
        "id": "NZChqrOGMTQV",
        "colab": {
          "base_uri": "https://localhost:8080/"
        },
        "outputId": "60696e1f-827a-470c-a78b-2e0bb91870e8"
      },
      "execution_count": null,
      "outputs": [
        {
          "output_type": "stream",
          "name": "stdout",
          "text": [
            "Digite o código do aluno: 1\n",
            "Digite a altura do aluno em cms: 155\n",
            "Digite o código do aluno: 2\n",
            "Digite a altura do aluno em cms: 144\n",
            "Digite o código do aluno: 3\n",
            "Digite a altura do aluno em cms: 133\n",
            "Digite o código do aluno: 4\n",
            "Digite a altura do aluno em cms: 122\n",
            "Digite o código do aluno: 5\n",
            "Digite a altura do aluno em cms: 97\n",
            "Digite o código do aluno: 6\n",
            "Digite a altura do aluno em cms: 165\n",
            "Digite o código do aluno: 7\n",
            "Digite a altura do aluno em cms: 188\n",
            "Digite o código do aluno: 8\n",
            "Digite a altura do aluno em cms: 177\n",
            "Digite o código do aluno: 122\n",
            "Digite a altura do aluno em cms: 132\n",
            "Digite o código do aluno: 9\n",
            "Digite a altura do aluno em cms: 177\n",
            "\n",
            "Informações dos Alunos:\n",
            "Código: 1, Altura: 155\n",
            "Código: 2, Altura: 144\n",
            "Código: 3, Altura: 133\n",
            "Código: 4, Altura: 122\n",
            "Código: 5, Altura: 97\n",
            "Código: 6, Altura: 165\n",
            "Código: 7, Altura: 188\n",
            "Código: 8, Altura: 177\n",
            "Código: 122, Altura: 132\n",
            "Código: 9, Altura: 177\n",
            "\n",
            "Aluno mais alto:\n",
            "Código: 7, Altura: 188\n",
            "\n",
            "Aluno mais baixo:\n",
            "Código: 5, Altura: 97\n"
          ]
        }
      ]
    },
    {
      "cell_type": "markdown",
      "source": [
        "# 40 - Foi feita uma estatística em cinco cidades brasileiras para coletar dados sobre acidentes de trânsito. Foram obtidos os seguintes dados:\n",
        "a - Código da cidade;\n",
        "\n",
        "b - Número de veículos de passeio (em 1999);\n",
        "\n",
        "c - Número de acidentes de trânsito com vítimas (em 1999). Deseja-se saber:\n",
        "\n",
        "d - Qual o maior e menor índice de acidentes de transito e a que cidade pertence;\n",
        "\n",
        "e - Qual a média de veículos nas cinco cidades juntas;\n",
        "\n",
        "f - Qual a média de acidentes de trânsito nas cidades com menos de 2.000 veículos de passeio."
      ],
      "metadata": {
        "id": "7qSS5331NQqG"
      }
    },
    {
      "cell_type": "code",
      "source": [
        "cod_cidade = 1\n",
        "maior_num_veiculos = float('-inf')\n",
        "menor_num_veiculos = float('inf')\n",
        "num_maior_acid_fatais = float('-inf')\n",
        "cidade_maior_acid_fatais = 0\n",
        "total_veiculos = 0\n",
        "total_fatais = 0\n",
        "contador = 1\n",
        "cidades_com_menos_2000 = 0\n",
        "\n",
        "while contador <= 5:\n",
        "    num_veiculos = float(input(f'Digite o número de veículos da cidade {cod_cidade}: '))\n",
        "    cod_cidade += 1\n",
        "    total_veiculos += num_veiculos\n",
        "\n",
        "    if num_veiculos > maior_num_veiculos:\n",
        "        maior_num_veiculos = num_veiculos\n",
        "\n",
        "    if num_veiculos < menor_num_veiculos:\n",
        "        menor_num_veiculos = num_veiculos\n",
        "\n",
        "    acid_fatais = input('Digite o número de acidentes fatais: ')\n",
        "\n",
        "    if acid_fatais.isdigit():\n",
        "        acid_fatais = float(acid_fatais)\n",
        "    else:\n",
        "        print('Entrada inválida. Por favor, digite um número.')\n",
        "        continue\n",
        "\n",
        "    if num_veiculos < 2000:\n",
        "        total_fatais += acid_fatais\n",
        "        cidades_com_menos_2000 += 1\n",
        "\n",
        "        if acid_fatais > num_maior_acid_fatais:\n",
        "            num_maior_acid_fatais = acid_fatais\n",
        "            cidade_maior_acid_fatais = cod_cidade - 1\n",
        "\n",
        "    contador += 1\n",
        "\n",
        "if cidades_com_menos_2000 == 0:\n",
        "    print('Não há cidades com menos de 2000 veículos com acidentes fatais.')\n",
        "else:\n",
        "    media_de_acidentes_fatais_menos_2000_carros = total_fatais / cidades_com_menos_2000\n",
        "\n",
        "print(f'Total de veículos: {total_veiculos}')\n",
        "print(f'Maior número de veículos: {maior_num_veiculos} (Cidade {cod_cidade - 1})')\n",
        "print(f'Menor número de veículos: {menor_num_veiculos} (Cidade {cod_cidade - 1})')\n",
        "print(f'Maior número de acidentes: {num_maior_acid_fatais} (Cidade {cidade_maior_acid_fatais})')\n",
        "print(f'Média de veículos: {total_veiculos / 5}')\n",
        "print(f'Média de acidentes fatais em cidades com menos de 2000 veículos: {media_de_acidentes_fatais_menos_2000_carros}')\n",
        "\n"
      ],
      "metadata": {
        "id": "Q4icsHkjNwHd",
        "colab": {
          "base_uri": "https://localhost:8080/"
        },
        "outputId": "5b005c7a-65e9-4697-f3b4-22233fddeacf"
      },
      "execution_count": null,
      "outputs": [
        {
          "output_type": "stream",
          "name": "stdout",
          "text": [
            "Digite o número de veículos da cidade 1: 500\n",
            "Digite o número de acidentes fatais: 3\n",
            "Digite o número de veículos da cidade 2: 800\n",
            "Digite o número de acidentes fatais: 12\n",
            "Digite o número de veículos da cidade 3: 1800\n",
            "Digite o número de acidentes fatais: 9\n",
            "Digite o número de veículos da cidade 4: 7000\n",
            "Digite o número de acidentes fatais: 9\n",
            "Digite o número de veículos da cidade 5: 15000\n",
            "Digite o número de acidentes fatais: 18\n",
            "Total de veículos: 25100.0\n",
            "Maior número de veículos: 15000.0 (Cidade 5)\n",
            "Menor número de veículos: 500.0 (Cidade 5)\n",
            "Maior número de acidentes: 12.0 (Cidade 2)\n",
            "Média de veículos: 5020.0\n",
            "Média de acidentes fatais em cidades com menos de 2000 veículos: 8.0\n"
          ]
        }
      ]
    },
    {
      "cell_type": "markdown",
      "source": [
        "# 41 - Faça um programa que receba o valor de uma dívida e mostre uma tabela com os seguintes dados: valor da dívida, valor dos juros, quantidade de parcelas e valor da parcela.\n",
        "    Os juros e a quantidade de parcelas seguem a tabela abaixo:\n",
        "    Quantidade de Parcelas  % de Juros sobre o valor inicial da dívida\n",
        "    1       0\n",
        "    3       10\n",
        "    6       15\n",
        "    9       20\n",
        "    12      25\n",
        "Exemplo de saída do programa:\n",
        "\n",
        "    Valor da Dívida Valor dos Juros Quantidade de Parcelas  Valor da Parcela\n",
        "     R$ 1.000,00     0               1                       R$  1.000,00\n",
        "     R$ 1.100,00     100             3                       R$    366,00\n",
        "     R$ 1.150,00     150             6                       R$    191,67"
      ],
      "metadata": {
        "id": "MMgC7eMjNw9k"
      }
    },
    {
      "cell_type": "code",
      "source": [
        "divida = float(input('digite o valor da divida R$:'))\n",
        "valorDivida = []\n",
        "juros= []\n",
        "valorParcela = []\n",
        "ran = [1,3,6,9,12]\n",
        "\n",
        "parcela = int(input('escolha o numero de parcelas : 1-3-6-9-12: '))\n",
        "\n",
        "valorDivida.append(divida)\n",
        "juros.append(0)\n",
        "valorParcela.append(divida)\n",
        "\n",
        "valorDivida.append(divida*1.10)\n",
        "juros.append((divida*1.10)-divida)\n",
        "valorParcela.append((divida*1.10)/3)\n",
        "\n",
        "valorDivida.append(divida*1.15)\n",
        "juros.append((divida*1.15)-divida)\n",
        "valorParcela.append((divida*1.15)/3)\n",
        "\n",
        "valorDivida.append(divida*1.20)\n",
        "juros.append((divida*1.20)-divida)\n",
        "valorParcela.append((divida*1.20)/3)\n",
        "\n",
        "valorDivida.append(divida*1.30)\n",
        "juros.append((divida*1.30)-divida)\n",
        "valorParcela.append((divida*1.30)/3)\n",
        "\n",
        "\n",
        "string_valordivida = '\\n'.join(map(str, valorDivida))\n",
        "string_juros = '\\n'.join(map(str, juros))\n",
        "string_parcelas = '\\n'.join(map(str, ran))\n",
        "string_valorParcela = '\\n'.join(map(str, valorParcela))\n",
        "# Imprime os cabeçalhos\n",
        "print('Valor da Dívida   Valor dos Juros  Qtde de Parcelas  Valor da Parcela')\n",
        "\n",
        "for dados in zip(valorDivida, juros, ran, valorParcela):\n",
        "    valor_divida_formatado = f'{dados[0]:.2f}'  # Formatando com duas casas decimais\n",
        "    valor_juros_formatado = f'{dados[1]:.2f}'  # Formatando com duas casas decimais\n",
        "    valor_parcelas_formatado = f'{dados[2]:.0f}'  # Formatando como número inteiro\n",
        "    valor_parcela_formatado = f'{dados[3]:.2f}'  # Formatando com duas casas decimais\n",
        "\n",
        "    print(f'R$ {valor_divida_formatado:<14} {valor_juros_formatado:<16}      {valor_parcelas_formatado:<5} R${valor_parcela_formatado}')\n",
        "\n",
        "\n",
        "\n",
        "\n",
        "\n"
      ],
      "metadata": {
        "id": "LvLTBM4eORQR",
        "colab": {
          "base_uri": "https://localhost:8080/"
        },
        "outputId": "978ba6b3-060e-485d-edae-2287abfd6286"
      },
      "execution_count": null,
      "outputs": [
        {
          "output_type": "stream",
          "name": "stdout",
          "text": [
            "digite o valor da divida R$:1000\n",
            "escolha o numero de parcelas : 1-3-6-9-12: 3\n",
            "Valor da Dívida   Valor dos Juros  Qtde de Parcelas  Valor da Parcela\n",
            "R$ 1000.00        0.00                  1     R$1000.00\n",
            "R$ 1100.00        100.00                3     R$366.67\n",
            "R$ 1150.00        150.00                6     R$383.33\n",
            "R$ 1200.00        200.00                9     R$400.00\n",
            "R$ 1300.00        300.00                12    R$433.33\n"
          ]
        }
      ]
    },
    {
      "cell_type": "markdown",
      "source": [
        "# 42 - Faça um programa que leia uma quantidade indeterminada de números positivos e conte quantos deles estão nos seguintes intervalos: [0-25], [26-50], [51-75] e [76-100]. A entrada de dados deverá terminar quando for lido um número negativo."
      ],
      "metadata": {
        "id": "UCdeMfAWOTCu"
      }
    },
    {
      "cell_type": "code",
      "source": [
        "listaInteiros =[]\n",
        "alarme = 1\n",
        "while True:\n",
        "  inteiros =int(input('digite numeros inteiros,digite um numero negativo para parar : '))\n",
        "  print(f'vc digitou {alarme} numero(s) até o momento')\n",
        "  if inteiros < 0 :\n",
        "    print('Parando...')\n",
        "    break\n",
        "  elif alarme == 100:\n",
        "     print('chegamos a 100 algarismo,não conto mais que isso')\n",
        "     break\n",
        "  else:\n",
        "    listaInteiros.append(inteiros)\n",
        "    alarme +=1\n",
        "    continue\n",
        "\n",
        "\n",
        "print('os 25 primeiros números são :')\n",
        "for i in listaInteiros[0:25]:\n",
        "    print(i,end=\" \")\n",
        "\n",
        "print('\\nnumeros do 26 ao 50 digitados :')\n",
        "for j in listaInteiros[26:50]:\n",
        "    print(j,end=\" \")\n",
        "\n",
        "print('\\nnumeros do 51 ao 75 digitados :')\n",
        "for z in listaInteiros[51:75]:\n",
        "    print(z,end=\" \")\n",
        "\n",
        "print('\\nnumeros do 76 ao 100 digitados :')\n",
        "for y in listaInteiros[76:100]:\n",
        "    print(y,end=\" \")"
      ],
      "metadata": {
        "id": "Wz-b1kRtOZyc",
        "colab": {
          "base_uri": "https://localhost:8080/"
        },
        "outputId": "a5f149b3-3e11-437e-9a47-548b1fc39f42"
      },
      "execution_count": null,
      "outputs": [
        {
          "output_type": "stream",
          "name": "stdout",
          "text": [
            "digite numeros inteiros,digite um numero negativo para parar : 1\n",
            "vc digitou 1 numero(s) até o momento\n",
            "digite numeros inteiros,digite um numero negativo para parar : 2\n",
            "vc digitou 2 numero(s) até o momento\n",
            "digite numeros inteiros,digite um numero negativo para parar : 3\n",
            "vc digitou 3 numero(s) até o momento\n",
            "digite numeros inteiros,digite um numero negativo para parar : 4\n",
            "vc digitou 4 numero(s) até o momento\n",
            "digite numeros inteiros,digite um numero negativo para parar : 5\n",
            "vc digitou 5 numero(s) até o momento\n",
            "digite numeros inteiros,digite um numero negativo para parar : 8\n",
            "vc digitou 6 numero(s) até o momento\n",
            "digite numeros inteiros,digite um numero negativo para parar : -1\n",
            "vc digitou 7 numero(s) até o momento\n",
            "Parando...\n",
            "os 25 primeiros números são :\n",
            "1 2 3 4 5 8 \n",
            "numeros do 26 ao 50 digitados :\n",
            "\n",
            "numeros do 51 ao 75 digitados :\n",
            "\n",
            "numeros do 76 ao 100 digitados :\n"
          ]
        }
      ]
    },
    {
      "cell_type": "markdown",
      "source": [
        "# 43 - O cardápio de uma lanchonete é o seguinte:\n",
        "    Especificação   Código  Preço\n",
        "    Cachorro Quente 100     R$ 1,20\n",
        "    Bauru Simples   101     R$ 1,30\n",
        "    Bauru com ovo   102     R$ 1,50\n",
        "    Hambúrguer      103     R$ 1,20\n",
        "    Cheeseburguer   104     R$ 1,30\n",
        "    Refrigerante    105     R$ 1,00\n",
        "Faça um programa que leia o código dos itens pedidos e as quantidades desejadas. Calcule e mostre o valor a ser pago por item (preço * quantidade) e o total geral do pedido. Considere que o cliente deve informar quando o pedido deve ser encerrado."
      ],
      "metadata": {
        "id": "c8K7d-2dOa7_"
      }
    },
    {
      "cell_type": "code",
      "source": [
        "cachorroQuente = 0\n",
        "bauruSimples   = 0\n",
        "baurucomovo    = 0\n",
        "hamburguer     = 0\n",
        "cheeseburguer  = 0\n",
        "refrigerante   = 0\n",
        "qtd_cachorroQuente = 0\n",
        "qtd_cachorroQuente = 0\n",
        "qtd_Hamburgues = 0\n",
        "qtd_Cheeseburguer = 0\n",
        "qtd_Refrigerantes =0\n",
        "qtd_bauruSimples = 0\n",
        "qtd_baurucomovo = 0\n",
        "while True:\n",
        "  print('escolha o item pelo código\\n')\n",
        "  print('''Especificação   Código  Preço\n",
        "  Cachorro Quente 100     R$ 1,20\n",
        "  Bauru Simples   101     R$ 1,30\n",
        "  Bauru com ovo   102     R$ 1,50\n",
        "  Hambúrguer      103     R$ 1,20\n",
        "  Cheeseburguer   104     R$ 1,30\n",
        "  Refrigerante    105     R$ 1,00''')\n",
        "\n",
        "  codigo = int(input('digite o codigo :'))\n",
        "\n",
        "  if codigo == 100:\n",
        "    print('Cachorro-quente')\n",
        "    qtd_cachorroQuente = int(input('qtde de Cachorro-quente: '))\n",
        "    cachorroQuente += (qtd_cachorroQuente*1.20)\n",
        "\n",
        "    fazer_pedido = input('Deseja fazer pedido,S-continua/N-parar:\\n ')\n",
        "    if fazer_pedido =='s' or fazer_pedido == 'S':\n",
        "       continue\n",
        "    elif fazer_pedido =='n' or fazer_pedido == 'N':\n",
        "\n",
        "       break\n",
        "    else:\n",
        "      print('opçao errada,tente novamente')\n",
        "      continue\n",
        "\n",
        "\n",
        "  if codigo == 101:\n",
        "    print('Bauru Simples')\n",
        "    qtd_bauruSimples = int(input('qtde de Bauru Simples: '))\n",
        "    bauruSimples += (qtd_bauruSimples*1.30)\n",
        "\n",
        "    fazer_pedido = input('Deseja fazer pedido,S-continua/N-parar:\\n ')\n",
        "    if fazer_pedido =='s' or fazer_pedido == 'S':\n",
        "       continue\n",
        "    elif fazer_pedido =='n' or fazer_pedido == 'N':\n",
        "       break\n",
        "    else:\n",
        "      print('opçao errada,tente novamente')\n",
        "      continue\n",
        "\n",
        "  if codigo == 102:\n",
        "    print('Bauru com Ovo')\n",
        "    qtd_baurucomovo = int(input('qtde de Bauru com Ovo: '))\n",
        "    baurucomovo += (qtd_baurucomovo*1.50)\n",
        "\n",
        "    fazer_pedido = input('Deseja fazer pedido,S-continua/N-parar:\\n ')\n",
        "    if fazer_pedido =='s' or fazer_pedido == 'S':\n",
        "       continue\n",
        "    elif fazer_pedido =='n' or fazer_pedido == 'N':\n",
        "       break\n",
        "    else:\n",
        "      print('opçao errada,tente novamente')\n",
        "      continue\n",
        "\n",
        "  if codigo == 103:\n",
        "    print('Hambúrguer')\n",
        "    qtd_Hamburgues = int(input('qtde de Hambúrgues: '))\n",
        "    hamburguer += (qtd_Hamburgues*1.20)\n",
        "\n",
        "    fazer_pedido = input('Deseja fazer pedido,S-continua/N-parar:\\n ')\n",
        "    if fazer_pedido =='s' or fazer_pedido == 'S':\n",
        "       continue\n",
        "    elif fazer_pedido =='n' or fazer_pedido == 'N':\n",
        "\n",
        "       break\n",
        "    else:\n",
        "      print('opçao errada,tente novamente')\n",
        "      continue\n",
        "\n",
        "  if codigo == 104:\n",
        "    print('Cheeseburguer')\n",
        "    qtd_Refrigerantes = int(input('qtde de Hambúrgues: '))\n",
        "    refrigerante += (qtd_Refrigerantes*1.30)\n",
        "\n",
        "    fazer_pedido = input('Deseja fazer pedido,S-continua/N-parar:\\n ')\n",
        "    if fazer_pedido =='s' or fazer_pedido == 'S':\n",
        "       continue\n",
        "    elif fazer_pedido =='n' or fazer_pedido == 'N':\n",
        "       break\n",
        "    else:\n",
        "      print('opçao errada,tente novamente')\n",
        "      continue\n",
        "\n",
        "  if codigo == 105:\n",
        "    print('Refrigerante')\n",
        "    qtd_Refrigerantes = int(input('qtde de Refrigerante(s): '))\n",
        "    refrigerante += (qtd_Refrigerantes*1)\n",
        "\n",
        "    fazer_pedido = input('Deseja fazer pedido,S-continua/N-parar:\\n ')\n",
        "    if fazer_pedido =='s' or fazer_pedido == 'S':\n",
        "       continue\n",
        "    elif fazer_pedido =='n' or fazer_pedido == 'N':\n",
        "       break\n",
        "    else:\n",
        "      print('opçao errada,tente novamente')\n",
        "      continue\n",
        "\n",
        "total = (cachorroQuente+bauruSimples+baurucomovo+hamburguer+cheeseburguer+refrigerante)\n",
        "print(f'qtd de Cachorro-Quente: {qtd_cachorroQuente}, valor R$:{cachorroQuente}')\n",
        "print(f'qtd de Bauru Simples: {qtd_bauruSimples}, valor R$:{bauruSimples}')\n",
        "print(f'qtd de Bauru com Ovo: {qtd_baurucomovo}, valor R$:{baurucomovo}')\n",
        "print(f'qtd de Hambúrguer: {qtd_Hamburgues}, valor R$:{hamburguer}')\n",
        "print(f'qtd de Cheeseburguer(s): {qtd_Cheeseburguer}, valor R$:{cheeseburguer}')\n",
        "print(f'qtd de Refrigerante(s): {qtd_Refrigerantes}, valor R$:{refrigerante}')\n",
        "print(f'Total do Pedido R$: {total}')"
      ],
      "metadata": {
        "id": "eG_bW-K8Ovx1",
        "colab": {
          "base_uri": "https://localhost:8080/"
        },
        "outputId": "3464789c-06ba-4db3-e3fc-9dfa4fa030a2"
      },
      "execution_count": null,
      "outputs": [
        {
          "output_type": "stream",
          "name": "stdout",
          "text": [
            "escolha o item pelo código\n",
            "\n",
            "Especificação   Código  Preço\n",
            "  Cachorro Quente 100     R$ 1,20\n",
            "  Bauru Simples   101     R$ 1,30\n",
            "  Bauru com ovo   102     R$ 1,50\n",
            "  Hambúrguer      103     R$ 1,20\n",
            "  Cheeseburguer   104     R$ 1,30\n",
            "  Refrigerante    105     R$ 1,00\n",
            "digite o codigo :105\n",
            "Refrigerante\n",
            "qtde de Refrigerante(s): 1\n",
            "Deseja fazer pedido,S-continua/N-parar:\n",
            " n\n",
            "qtd de Cachorro-Quente: 0, valor R$:0\n",
            "qtd de Bauru Simples: 0, valor R$:0\n",
            "qtd de Bauru com Ovo: 0, valor R$:0\n",
            "qtd de Hambúrguer: 0, valor R$:0\n",
            "qtd de Cheeseburguer(s): 0, valor R$:0\n",
            "qtd de Refrigerante(s): 1, valor R$:1\n",
            "Total do Pedido R$: 1\n"
          ]
        }
      ]
    },
    {
      "cell_type": "markdown",
      "source": [
        "# 44 - Em uma eleição presidencial existem quatro candidatos. Os votos são informados por meio de código. Os códigos utilizados são:\n",
        "    1 , 2, 3, 4  - Votos para os respectivos candidatos\n",
        "    (você deve montar a tabela ex: 1 - Jose/ 2- João/etc)\n",
        "    5 - Voto Nulo\n",
        "    6 - Voto em Branco\n",
        "Faça um programa que calcule e mostre:\n",
        "\n",
        "- O total de votos para cada candidato;\n",
        "\n",
        "- O total de votos nulos;\n",
        "\n",
        "- O total de votos em branco;\n",
        "\n",
        "- A percentagem de votos nulos sobre o total de votos;\n",
        "\n",
        "- A percentagem de votos em branco sobre o total de votos.\n",
        "\n",
        "- Para finalizar o conjunto de votos tem-se o valor zero."
      ],
      "metadata": {
        "id": "hDEoPHJ6OxRZ"
      }
    },
    {
      "cell_type": "code",
      "source": [
        "joao = 0\n",
        "chico = 0\n",
        "ze = 0\n",
        "mane = 0\n",
        "nulo = 0\n",
        "branco = 0\n",
        "\n",
        "while True:\n",
        "  print('''\n",
        "          ESCOLHA OS CANDIDATOS, ZERO ENCERRA VOTAÇÃO\n",
        "\n",
        "          1-JOÃO\n",
        "          2-CHICO\n",
        "          3-ZÉ\n",
        "          4-MANÉ\n",
        "          5-NULO\n",
        "          6-BRANCO\n",
        "          0-ENCERRA OS VOTOS ''')\n",
        "\n",
        "  voto = int(input('Digite seu voto :'))\n",
        "  if voto == 1:\n",
        "    joao += 1\n",
        "    print('voto registrado, proximo \\n')\n",
        "    continue\n",
        "  elif voto == 2:\n",
        "    chico += 1\n",
        "    print('voto registrado, proximo \\n')\n",
        "    continue\n",
        "  elif voto == 3:\n",
        "    ze += 1\n",
        "    print('voto registrado, proximo \\n')\n",
        "    continue\n",
        "  elif voto == 4:\n",
        "    mane += 1\n",
        "    print('voto registrado, proximo \\n')\n",
        "    continue\n",
        "  elif voto == 5:\n",
        "    nulo += 1\n",
        "    print('voto registrado, proximo \\n')\n",
        "    continue\n",
        "  elif voto == 6:\n",
        "    branco += 1\n",
        "    print('voto registrado, proximo \\n')\n",
        "    continue\n",
        "  elif voto == 0:\n",
        "    print('votação encerrada')\n",
        "    break\n",
        "  else:\n",
        "    print('numero ou opção inexistente')\n",
        "    continue\n",
        "\n",
        "totalvotos = joao + chico + ze + mane + nulo + branco\n",
        "porcentagemNulos = (nulo / totalvotos) * 100\n",
        "porcentagemBrancos = (branco / totalvotos) * 100\n",
        "\n",
        "print(f'''\n",
        "          TOTAL DE VOTOS: {totalvotos}\n",
        "\n",
        "          1-JOÃO: {joao}\n",
        "          2-CHICO: {chico}\n",
        "          3-ZÉ: {ze}\n",
        "          4-MANÉ: {mane}\n",
        "          5-NULO: {nulo}\n",
        "          6-BRANCO: {branco}\n",
        "          7-PERCENTUAL DE NULOS: {porcentagemNulos:.2f}%\n",
        "          8-PERCENTUAL DE BRANCOS: {porcentagemBrancos:.2f}%''')"
      ],
      "metadata": {
        "id": "3baSp-x8PXma",
        "colab": {
          "base_uri": "https://localhost:8080/"
        },
        "outputId": "7549c075-c370-462d-d65f-e86cdd8b2248"
      },
      "execution_count": null,
      "outputs": [
        {
          "output_type": "stream",
          "name": "stdout",
          "text": [
            " \n",
            "          ESCOLHA OS CANDIDATOS, ZERO ENCERRA VOTAÇÃO\n",
            "\n",
            "          1-JOÃO\n",
            "          2-CHICO\n",
            "          3-ZÉ\n",
            "          4-MANÉ\n",
            "          5-NULO\n",
            "          6-BRANCO\n",
            "          0-ENCERRA OS VOTOS \n",
            "Digite seu voto :1\n",
            "voto registrado, proximo \n",
            "\n",
            " \n",
            "          ESCOLHA OS CANDIDATOS, ZERO ENCERRA VOTAÇÃO\n",
            "\n",
            "          1-JOÃO\n",
            "          2-CHICO\n",
            "          3-ZÉ\n",
            "          4-MANÉ\n",
            "          5-NULO\n",
            "          6-BRANCO\n",
            "          0-ENCERRA OS VOTOS \n",
            "Digite seu voto :2\n",
            "voto registrado, proximo \n",
            "\n",
            " \n",
            "          ESCOLHA OS CANDIDATOS, ZERO ENCERRA VOTAÇÃO\n",
            "\n",
            "          1-JOÃO\n",
            "          2-CHICO\n",
            "          3-ZÉ\n",
            "          4-MANÉ\n",
            "          5-NULO\n",
            "          6-BRANCO\n",
            "          0-ENCERRA OS VOTOS \n",
            "Digite seu voto :3\n",
            "voto registrado, proximo \n",
            "\n",
            " \n",
            "          ESCOLHA OS CANDIDATOS, ZERO ENCERRA VOTAÇÃO\n",
            "\n",
            "          1-JOÃO\n",
            "          2-CHICO\n",
            "          3-ZÉ\n",
            "          4-MANÉ\n",
            "          5-NULO\n",
            "          6-BRANCO\n",
            "          0-ENCERRA OS VOTOS \n",
            "Digite seu voto :2\n",
            "voto registrado, proximo \n",
            "\n",
            " \n",
            "          ESCOLHA OS CANDIDATOS, ZERO ENCERRA VOTAÇÃO\n",
            "\n",
            "          1-JOÃO\n",
            "          2-CHICO\n",
            "          3-ZÉ\n",
            "          4-MANÉ\n",
            "          5-NULO\n",
            "          6-BRANCO\n",
            "          0-ENCERRA OS VOTOS \n",
            "Digite seu voto :5\n",
            "voto registrado, proximo \n",
            "\n",
            " \n",
            "          ESCOLHA OS CANDIDATOS, ZERO ENCERRA VOTAÇÃO\n",
            "\n",
            "          1-JOÃO\n",
            "          2-CHICO\n",
            "          3-ZÉ\n",
            "          4-MANÉ\n",
            "          5-NULO\n",
            "          6-BRANCO\n",
            "          0-ENCERRA OS VOTOS \n",
            "Digite seu voto :6\n",
            "voto registrado, proximo \n",
            "\n",
            " \n",
            "          ESCOLHA OS CANDIDATOS, ZERO ENCERRA VOTAÇÃO\n",
            "\n",
            "          1-JOÃO\n",
            "          2-CHICO\n",
            "          3-ZÉ\n",
            "          4-MANÉ\n",
            "          5-NULO\n",
            "          6-BRANCO\n",
            "          0-ENCERRA OS VOTOS \n",
            "Digite seu voto :6\n",
            "voto registrado, proximo \n",
            "\n",
            " \n",
            "          ESCOLHA OS CANDIDATOS, ZERO ENCERRA VOTAÇÃO\n",
            "\n",
            "          1-JOÃO\n",
            "          2-CHICO\n",
            "          3-ZÉ\n",
            "          4-MANÉ\n",
            "          5-NULO\n",
            "          6-BRANCO\n",
            "          0-ENCERRA OS VOTOS \n",
            "Digite seu voto :0\n",
            "votação encerrada\n",
            " \n",
            "          TOTAL DE VOTOS: 7\n",
            "\n",
            "          1-JOÃO: 1\n",
            "          2-CHICO: 2\n",
            "          3-ZÉ: 1\n",
            "          4-MANÉ: 0\n",
            "          5-NULO: 1\n",
            "          6-BRANCO: 2\n",
            "          7-PERCENTUAL DE NULOS: 14.29%\n",
            "          8-PERCENTUAL DE BRANCOS: 28.57%\n"
          ]
        }
      ]
    },
    {
      "cell_type": "markdown",
      "source": [
        "# 45 - Desenvolver um programa para verificar a nota do aluno em uma prova com 10 questões, o programa deve perguntar ao aluno a resposta de cada questão e ao final comparar com o gabarito da prova e assim calcular o total de acertos e a nota (atribuir 1 ponto por resposta certa). Após cada aluno utilizar o sistema deve ser feita uma pergunta se outro aluno vai utilizar o sistema. Após todos os alunos terem respondido informar:\n",
        "\n",
        "A - Maior e Menor Acerto;\n",
        "\n",
        "B - Total de Alunos que utilizaram o sistema;\n",
        "\n",
        "C - A Média das Notas da Turma\n",
        "\n",
        "    Gabarito da Prova:\n",
        "\n",
        "    01 - A\n",
        "    02 - B\n",
        "    03 - C\n",
        "    04 - D\n",
        "    05 - E\n",
        "    06 - E\n",
        "    07 - D\n",
        "    08 - C\n",
        "    09 - B\n",
        "    10 - A\n",
        "\n",
        "Após concluir isto você poderia incrementar o programa permitindo que o professor digite o gabarito da prova antes dos alunos usarem o programa."
      ],
      "metadata": {
        "id": "-wA4oc-rPZp1"
      }
    },
    {
      "cell_type": "code",
      "source": [
        "gabaritoProva = {'01': 'A', '02': 'B', '03': 'C', '04': 'D', '05': 'E', '06': 'E', '07': 'D', '08': 'C', '09': 'B', '10': 'A'}\n",
        "totalAlunos = 1\n",
        "respostaAlunos = {}\n",
        "numeroAlunos = 0\n",
        "numero_de_acertos = {}\n",
        "\n",
        "while True:\n",
        "    # Recebe as respostas\n",
        "    print('PROVA - ESCOLHA ABCDE')\n",
        "    for i in range(1, 10 + 1):\n",
        "        pergunta = input(f'Questão {i}: ')\n",
        "        pergunta = pergunta.upper()\n",
        "        respostaAlunos[str(i).zfill(2)] = pergunta\n",
        "\n",
        "    # Compara as respostas com o gabarito\n",
        "    respostasCertas = 0\n",
        "    for key, valor1 in gabaritoProva.items():\n",
        "        valor2 = respostaAlunos.get(key)\n",
        "        if valor2 is not None and valor1 == valor2:\n",
        "            respostasCertas += 1\n",
        "\n",
        "    numero_de_acertos.update({totalAlunos:respostasCertas})\n",
        "    totalAlunos += 1\n",
        "\n",
        "    continuar = input('Próximo aluno (qualquer tecla) ou P para parar? \\n')\n",
        "    continuar = continuar.upper()\n",
        "\n",
        "    if continuar == 'P':\n",
        "        break\n",
        "    else:\n",
        "        respostaAlunos.clear()\n",
        "        continue\n",
        "chave = list(numero_de_acertos.keys())\n",
        "valor = list(numero_de_acertos.values())\n",
        "maior_acerto = max(numero_de_acertos,key=numero_de_acertos.get)\n",
        "valor_max_acerto = numero_de_acertos[maior_acerto]\n",
        "menor_acerto = min(numero_de_acertos,key=numero_de_acertos.get)\n",
        "valor_min_acerto = numero_de_acertos[menor_acerto]\n",
        "soma_valores = sum(numero_de_acertos.values())\n",
        "quantidade_de_valores = len(numero_de_acertos)\n",
        "media = soma_valores / quantidade_de_valores if quantidade_de_valores > 0  else 0\n",
        "print(f'O número de acertos do(s) aluno(s) = Aluno :{chave}' )\n",
        "print(f'                                    Acertos:{valor} \\n')\n",
        "print(f'Total de alunos que utilizaram o sistema: {totalAlunos-1}')\n",
        "print(f'o maior numero de acerto foi Aluno : {maior_acerto} com {valor_max_acerto} acertos')\n",
        "print(f'o menor numero de acertos foi Aluno: {menor_acerto} com {valor_min_acerto} acertos')\n",
        "print(f'a média de acertos da turma foi : {media} pontos')"
      ],
      "metadata": {
        "id": "rWkn_DxXP60P",
        "colab": {
          "base_uri": "https://localhost:8080/"
        },
        "outputId": "aea48593-323d-43e0-a961-a1e2cd5562b4"
      },
      "execution_count": null,
      "outputs": [
        {
          "output_type": "stream",
          "name": "stdout",
          "text": [
            "PROVA - ESCOLHA ABCDE\n",
            "Questão 1: a\n",
            "Questão 2: b\n",
            "Questão 3: c\n",
            "Questão 4: d\n",
            "Questão 5: e\n",
            "Questão 6: f\n",
            "Questão 7: c\n",
            "Questão 8: c\n",
            "Questão 9: c\n",
            "Questão 10: c\n",
            "Próximo aluno (qualquer tecla) ou P para parar? \n",
            "\n",
            "PROVA - ESCOLHA ABCDE\n",
            "Questão 1: a\n",
            "Questão 2: b\n",
            "Questão 3: c\n",
            "Questão 4: d\n",
            "Questão 5: d\n",
            "Questão 6: d\n",
            "Questão 7: d\n",
            "Questão 8: d\n",
            "Questão 9: d\n",
            "Questão 10: d\n",
            "Próximo aluno (qualquer tecla) ou P para parar? \n",
            "p\n",
            "O número de acertos do(s) aluno(s) = Aluno :[1, 2]\n",
            "                                    Acertos:[6, 5] \n",
            "\n",
            "Total de alunos que utilizaram o sistema: 2\n",
            "o maior numero de acerto foi Aluno : 1 com 6 acertos\n",
            "o menor numero de acertos foi Aluno: 2 com 5 acertos\n",
            "a média de acertos da turma foi : 5.5 pontos\n"
          ]
        }
      ]
    },
    {
      "cell_type": "markdown",
      "source": [
        "# 46 - Em uma competição de salto em distância cada atleta tem direito a cinco saltos. No final da série de saltos de cada atleta, o melhor e o pior resultados são eliminados. O seu resultado fica sendo a média dos três valores restantes. Você deve fazer um programa que receba o nome e as cinco distâncias alcançadas pelo atleta em seus saltos e depois informe a média dos saltos conforme a descrição acima informada (retirar o melhor e o pior salto e depois calcular a média). Faça uso de uma lista para armazenar os saltos. Os saltos são informados na ordem da execução, portanto não são ordenados. O programa deve ser encerrado quando não for informado o nome do atleta. A saída do programa deve ser conforme o exemplo abaixo:\n",
        "\n",
        "    Atleta: Rodrigo Curvêllo\n",
        "\n",
        "    Primeiro Salto: 6.5 m\n",
        "    Segundo Salto: 6.1 m\n",
        "    Terceiro Salto: 6.2 m\n",
        "    Quarto Salto: 5.4 m\n",
        "    Quinto Salto: 5.3 m\n",
        "\n",
        "    Melhor salto:  6.5 m\n",
        "    Pior salto: 5.3 m\n",
        "    Média dos demais saltos: 5.9 m\n",
        "\n",
        "    Resultado final:\n",
        "    Rodrigo Curvêllo: 5.9 m"
      ],
      "metadata": {
        "id": "kAk2_VN0P9Ux"
      }
    },
    {
      "cell_type": "code",
      "source": [
        "resultados = []\n",
        "\n",
        "while True:\n",
        "    nome = input('Digite o nome do Atleta: ')\n",
        "\n",
        "    if nome == '':\n",
        "        break\n",
        "    else:\n",
        "        saltos = [] # erro 1 meu\n",
        "        for i in range(1, 6):\n",
        "            salto = float(input(f'Digite o salto {i} para {nome}: '))\n",
        "            saltos.append(salto)\n",
        "\n",
        "        # Calcula estatísticas erro 2 meu\n",
        "        melhor_salto = max(saltos)\n",
        "        pior_salto = min(saltos)\n",
        "        media_saltos = (sum(saltos) - melhor_salto - pior_salto) / 3\n",
        "\n",
        "        # Adiciona os resultados à lista // te´cnica desconhecida\n",
        "        resultados.append({\n",
        "            'nome': nome,\n",
        "            'saltos': saltos,\n",
        "            'melhor_salto': melhor_salto,\n",
        "            'pior_salto': pior_salto,\n",
        "            'media_saltos': media_saltos\n",
        "        })\n",
        "\n",
        "# Exibe os resultados // técnica desconhecia\n",
        "for resultado in resultados:\n",
        "    print(f\"Atleta: {resultado['nome']}\")\n",
        "    for i in range(5):\n",
        "        print(f\"Salto {i + 1}: {resultado['saltos'][i]} m\")\n",
        "    print(f\"Melhor salto: {resultado['melhor_salto']} m\")\n",
        "    print(f\"Pior salto: {resultado['pior_salto']} m\")\n",
        "    print(f\"Média dos demais saltos: {resultado['media_saltos']:.1f} m\")\n",
        "    print(f\"Resultado final: {resultado['nome']}: {resultado['media_saltos']:.1f} m\")\n",
        "    print()\n",
        "\n"
      ],
      "metadata": {
        "id": "TB-mt482fl8u"
      },
      "execution_count": null,
      "outputs": []
    },
    {
      "cell_type": "markdown",
      "source": [
        "# 47 - Em uma competição de ginástica, cada atleta recebe votos de sete jurados. A melhor e a pior nota são eliminadas. A sua nota fica sendo a média dos votos restantes. Você deve fazer um programa que receba o nome do ginasta e as notas dos sete jurados alcançadas pelo atleta em sua apresentação e depois informe a sua média, conforme a descrição acima informada (retirar o melhor e o pior salto e depois calcular a média com as notas restantes). As notas não são informados ordenadas. Um exemplo de saída do programa deve ser conforme o exemplo abaixo:\n",
        "\n",
        "    Atleta: Aparecido Parente\n",
        "    Nota: 9.9\n",
        "    Nota: 7.5\n",
        "    Nota: 9.5\n",
        "    Nota: 8.5\n",
        "    Nota: 9.0\n",
        "    Nota: 8.5\n",
        "    Nota: 9.7\n",
        "\n",
        "    Resultado final:\n",
        "    Atleta: Aparecido Parente\n",
        "    Melhor nota: 9.9\n",
        "    Pior nota: 7.5\n",
        "    Média: 9,04"
      ],
      "metadata": {
        "id": "VxXxjfTvQSo4"
      }
    },
    {
      "cell_type": "code",
      "source": [],
      "metadata": {
        "id": "jeBruQ1AQpoO"
      },
      "execution_count": null,
      "outputs": []
    },
    {
      "cell_type": "markdown",
      "source": [
        "# 48 - Faça um programa que peça um numero inteiro positivo e em seguida mostre este numero invertido.\n",
        "Exemplo:\n",
        "\n",
        "    12376489\n",
        "     => 98467321"
      ],
      "metadata": {
        "id": "wGx2I7peQqn-"
      }
    },
    {
      "cell_type": "code",
      "source": [
        "# Forma Dificil (somento for e while)\n"
      ],
      "metadata": {
        "id": "ulbCssmUrxk6"
      },
      "execution_count": null,
      "outputs": []
    },
    {
      "cell_type": "code",
      "source": [
        "# Forma Facil\n",
        "lista = []\n",
        "num = int(input('digite um numero: '))\n",
        "lista.append(num)\n",
        "string =str(lista[0])#como é um numero só apenas o indice zero\n",
        "print('=> ',string[::-1]) #não lembrava desse comando"
      ],
      "metadata": {
        "id": "w805XReGQ3Qj",
        "colab": {
          "base_uri": "https://localhost:8080/"
        },
        "outputId": "871bf706-531d-49b5-ae9e-c4737e4d9046"
      },
      "execution_count": null,
      "outputs": [
        {
          "output_type": "stream",
          "name": "stdout",
          "text": [
            "digite um numero: 123456789\n",
            "=>  987654321\n"
          ]
        }
      ]
    },
    {
      "cell_type": "markdown",
      "source": [
        "# 49 - Faça um programa que mostre os n termos da Série a seguir:\n",
        "\n",
        "    S = 1/1 + 2/3 + 3/5 + 4/7 + 5/9 + ... + n/m.\n",
        "\n",
        "Imprima no final a soma da série."
      ],
      "metadata": {
        "id": "9d0XgvVPQ5Gu"
      }
    },
    {
      "cell_type": "code",
      "source": [
        "n = int(input('N = '))\n",
        "numerador = 1\n",
        "denominador = 1\n",
        "lista = []\n",
        "while n >= 0:\n",
        "    fracao = f'{numerador}/{denominador}' #coisa nova\n",
        "    lista.append(fracao)\n",
        "    numerador += 1\n",
        "    denominador += 2\n",
        "    n -= 1\n",
        "\n",
        "expressao = ' + '.join(lista)#coisa nova\n",
        "print(f'S = {expressao}')"
      ],
      "metadata": {
        "id": "qgzuRQIkRHny",
        "colab": {
          "base_uri": "https://localhost:8080/"
        },
        "outputId": "4c4c6121-2ad5-4735-d861-8dec20449dd8"
      },
      "execution_count": null,
      "outputs": [
        {
          "output_type": "stream",
          "name": "stdout",
          "text": [
            "N = 5\n",
            "S = 1/1 + 2/3 + 3/5 + 4/7 + 5/9 + 6/11\n"
          ]
        }
      ]
    },
    {
      "cell_type": "markdown",
      "source": [
        "# 50 - Sendo H= 1 + 1/2 + 1/3 + 1/4 + ... + 1/N, Faça um programa que calcule o valor de H com N termos."
      ],
      "metadata": {
        "id": "VnJ25jVtRMuR"
      }
    },
    {
      "cell_type": "code",
      "source": [
        "n = int(input('N = '))\n",
        "numerador = 1\n",
        "denominador = 2\n",
        "lista = []\n",
        "while n >= 0:\n",
        "    fracao = f'{numerador}/{denominador}' #coisa nova\n",
        "    lista.append(fracao)\n",
        "    denominador += 1\n",
        "    n -= 1\n",
        "\n",
        "expressao = ' + '.join(lista)#coisa nova\n",
        "print(f'H = 1 + {expressao}')"
      ],
      "metadata": {
        "id": "3i7kIo4hRQLM",
        "colab": {
          "base_uri": "https://localhost:8080/"
        },
        "outputId": "03940aaf-a8f5-417e-c5e6-088e61482d41"
      },
      "execution_count": null,
      "outputs": [
        {
          "output_type": "stream",
          "name": "stdout",
          "text": [
            "N = 5\n",
            "H = 1 + 1/2 + 1/3 + 1/4 + 1/5 + 1/6 + 1/7\n"
          ]
        }
      ]
    }
  ]
}