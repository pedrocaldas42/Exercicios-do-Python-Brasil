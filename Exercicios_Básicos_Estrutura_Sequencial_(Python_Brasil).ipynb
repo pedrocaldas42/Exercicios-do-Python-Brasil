{
  "nbformat": 4,
  "nbformat_minor": 0,
  "metadata": {
    "colab": {
      "provenance": [],
      "authorship_tag": "ABX9TyPuZQsuY+ZC2KTTOwzThCPS",
      "include_colab_link": true
    },
    "kernelspec": {
      "name": "python3",
      "display_name": "Python 3"
    },
    "language_info": {
      "name": "python"
    }
  },
  "cells": [
    {
      "cell_type": "markdown",
      "metadata": {
        "id": "view-in-github",
        "colab_type": "text"
      },
      "source": [
        "<a href=\"https://colab.research.google.com/github/pedrocaldas42/Exercicios-do-Python-Brasil/blob/main/Exercicios_B%C3%A1sicos_Estrutura_Sequencial_(Python_Brasil).ipynb\" target=\"_parent\"><img src=\"https://colab.research.google.com/assets/colab-badge.svg\" alt=\"Open In Colab\"/></a>"
      ]
    },
    {
      "cell_type": "markdown",
      "source": [
        "# Exercicios de Estrutura Sequencial"
      ],
      "metadata": {
        "id": "hpCc1VYoDE5c"
      }
    },
    {
      "cell_type": "markdown",
      "source": [
        "# 1 - Faça um Programa que mostre a mensagem \"Alo mundo\" na tela."
      ],
      "metadata": {
        "id": "zTI780UhDQXJ"
      }
    },
    {
      "cell_type": "code",
      "execution_count": null,
      "metadata": {
        "colab": {
          "base_uri": "https://localhost:8080/"
        },
        "id": "e1sVq_2YDDqN",
        "outputId": "601cb98b-0e33-4699-db58-e3085db7768a"
      },
      "outputs": [
        {
          "output_type": "stream",
          "name": "stdout",
          "text": [
            "Alô ,Mundo\n"
          ]
        }
      ],
      "source": [
        "print('Alô ,Mundo')"
      ]
    },
    {
      "cell_type": "markdown",
      "source": [
        "# 2 - Faça um Programa que peça um número e então mostre a mensagem O número informado foi [número]."
      ],
      "metadata": {
        "id": "_tvHeJqyDgg-"
      }
    },
    {
      "cell_type": "code",
      "source": [
        "numero = int(input('Informe um número :'))\n",
        "print('o número informado foi {}'.format(numero))"
      ],
      "metadata": {
        "colab": {
          "base_uri": "https://localhost:8080/"
        },
        "id": "m8NvH8QaDqhk",
        "outputId": "6e32d771-06dd-4df6-d4ee-f1d891801242"
      },
      "execution_count": null,
      "outputs": [
        {
          "output_type": "stream",
          "name": "stdout",
          "text": [
            "Informe um número :5\n",
            "o número informado foi 5\n"
          ]
        }
      ]
    },
    {
      "cell_type": "markdown",
      "source": [
        "# 3 - Faça um Programa que peça dois números e imprima a soma."
      ],
      "metadata": {
        "id": "3o4BCN7HEMqz"
      }
    },
    {
      "cell_type": "code",
      "source": [
        "numero_1 = int(input('Informe o primeiro número :'))\n",
        "numero_2 = int(input('Informe o segundo número :'))\n",
        "soma = numero_1 + numero_2\n",
        "print('a soma dos números é {}'.format(soma))\n"
      ],
      "metadata": {
        "colab": {
          "base_uri": "https://localhost:8080/"
        },
        "id": "Bimt6n1rEWn7",
        "outputId": "79bfc33c-40ae-4355-d7cd-a8b33454e65f"
      },
      "execution_count": null,
      "outputs": [
        {
          "output_type": "stream",
          "name": "stdout",
          "text": [
            "Informe o primeiro número :10\n",
            "Informe o segundo número :30\n",
            "a soma dos números é 40\n"
          ]
        }
      ]
    },
    {
      "cell_type": "markdown",
      "source": [
        "# 4 - Faça um Programa que peça as 4 notas bimestrais e mostre a média."
      ],
      "metadata": {
        "id": "SFXjste3FAg2"
      }
    },
    {
      "cell_type": "code",
      "source": [
        "nota1 = float(input('Informe o primeira nota :'))\n",
        "nota2 = float(input('Informe o segunda nota :'))\n",
        "nota3 = float(input('Informe o terceira nota :'))\n",
        "nota4 = float(input('Informe o quarta nota :'))\n",
        "media = (nota1+nota2+nota3+nota4)/4\n",
        "print('A Média das Notas é {}'.format(media))"
      ],
      "metadata": {
        "colab": {
          "base_uri": "https://localhost:8080/"
        },
        "id": "epKfMJttFYp_",
        "outputId": "783bcb75-43c4-4c7e-fbb7-52c70638a1a4"
      },
      "execution_count": null,
      "outputs": [
        {
          "output_type": "stream",
          "name": "stdout",
          "text": [
            "Informe o primeira nota :5\n",
            "Informe o segunda nota :6\n",
            "Informe o terceira nota :7.5\n",
            "Informe o quarta nota :8.5\n",
            "A Média das Notas é 6.75\n"
          ]
        }
      ]
    },
    {
      "cell_type": "markdown",
      "source": [
        "# 5 - Faça um Programa que converta metros para centímetros."
      ],
      "metadata": {
        "id": "wsj7GFZ4GQWs"
      }
    },
    {
      "cell_type": "code",
      "source": [
        "metros = float(input('Digite quantos metros vc quer converter para Cms :'))\n",
        "centimetros = metros * 100\n",
        "print('{} metros tem {} cms'.format(metros,centimetros))"
      ],
      "metadata": {
        "colab": {
          "base_uri": "https://localhost:8080/"
        },
        "id": "FHnzKSO-Gt1B",
        "outputId": "64c7ee43-1179-4392-8ede-d58647bf280a"
      },
      "execution_count": null,
      "outputs": [
        {
          "output_type": "stream",
          "name": "stdout",
          "text": [
            "Digite quantos metros vc quer converter para Cms :345.20\n",
            "345.2 metros tem 34520.0 cms\n"
          ]
        }
      ]
    },
    {
      "cell_type": "markdown",
      "source": [
        "# 6 - Faça um Programa que peça o raio de um círculo, calcule e mostre sua área."
      ],
      "metadata": {
        "id": "LD1ALCzhHgZb"
      }
    },
    {
      "cell_type": "code",
      "source": [
        "import math #importa função math.pi , que é o propio Pi\n",
        "raioCirculo = float(input('digite o raio do circulo :'))\n",
        "areaCirculo = math.pi*(raioCirculo**2)\n",
        "print('A área do circulo é {}'.format(areaCirculo))"
      ],
      "metadata": {
        "colab": {
          "base_uri": "https://localhost:8080/"
        },
        "id": "Hdtqr9jsHqAG",
        "outputId": "800d38d7-681d-419c-ae7b-214348a9a6d8"
      },
      "execution_count": null,
      "outputs": [
        {
          "output_type": "stream",
          "name": "stdout",
          "text": [
            "digite o raio do circulo :5\n",
            "A área do circulo é 78.53981633974483\n"
          ]
        }
      ]
    },
    {
      "cell_type": "markdown",
      "source": [
        "# 7 - Faça um Programa que calcule a área de um quadrado, em seguida mostre o dobro desta área para o usuário."
      ],
      "metadata": {
        "id": "p8GApHw_JU3M"
      }
    },
    {
      "cell_type": "code",
      "source": [
        "lado = float(input('digite o tamanho do lado do quadrado :'))\n",
        "areaQuadrado = (lado**2)\n",
        "dobrodaArea = (areaQuadrado * 2)\n",
        "print('O dobro da area do quadrado é {}'.format(dobrodaArea))"
      ],
      "metadata": {
        "colab": {
          "base_uri": "https://localhost:8080/"
        },
        "id": "8AS3pTlOJdvV",
        "outputId": "58217715-1b8f-4aa7-cd6c-2c7a28326770"
      },
      "execution_count": null,
      "outputs": [
        {
          "output_type": "stream",
          "name": "stdout",
          "text": [
            "digite o tamanho do lado do quadrado :5\n",
            "O dobro da area do quadrado é 50.0\n"
          ]
        }
      ]
    },
    {
      "cell_type": "markdown",
      "source": [
        "# 8 - Faça um Programa que pergunte quanto você ganha por hora e o número de horas trabalhadas no mês. Calcule e mostre o total do seu salário no referido mês."
      ],
      "metadata": {
        "id": "mW_NT2y-Kf0k"
      }
    },
    {
      "cell_type": "code",
      "source": [
        "horaValor = float(input('digite quanto vc ganha por hora :'))\n",
        "horasMes = int(input('digite quantas horas vc trabalhou por mês :'))\n",
        "salario = (horaValor * horasMes)\n",
        "print('Seu salario foi de R$ : {}'.format(salario))"
      ],
      "metadata": {
        "colab": {
          "base_uri": "https://localhost:8080/"
        },
        "id": "SiJ7oNpNKwWZ",
        "outputId": "9bc2d518-7335-4e17-e0de-65294175ff13"
      },
      "execution_count": null,
      "outputs": [
        {
          "output_type": "stream",
          "name": "stdout",
          "text": [
            "digite quanto vc ganha por hora :6\n",
            "digite quantas horas vc trabalhou por mês :176\n",
            "Seu salario foi de R$ : 1056.0\n"
          ]
        }
      ]
    },
    {
      "cell_type": "markdown",
      "source": [
        "# 9 - Faça um Programa que peça a temperatura em graus Fahrenheit, transforme e mostre a temperatura em graus Celsius.\n",
        "C = 5 * ((F-32) / 9)."
      ],
      "metadata": {
        "id": "k7PCjg1nMDoK"
      }
    },
    {
      "cell_type": "code",
      "source": [
        "tempF = float(input('digite a temperatura em graus F :'))\n",
        "C = 5 * ((tempF-32) / 9)\n",
        "print('A temperatura Celsiu é {}'.format(C))"
      ],
      "metadata": {
        "id": "agOfcUVoMO-3",
        "colab": {
          "base_uri": "https://localhost:8080/"
        },
        "outputId": "9985a4c3-5747-4e68-9786-067470d8c0a7"
      },
      "execution_count": null,
      "outputs": [
        {
          "output_type": "stream",
          "name": "stdout",
          "text": [
            "digite a temperatura em graus F :-50\n",
            "A temperatura Celsiu é -45.55555555555556\n"
          ]
        }
      ]
    },
    {
      "cell_type": "markdown",
      "source": [
        "# 10 - Faça um Programa que peça a temperatura em graus Celsius, transforme e mostre em graus Fahrenheit."
      ],
      "metadata": {
        "id": "aulvRaRKMQPV"
      }
    },
    {
      "cell_type": "code",
      "source": [
        "tempC = float(input('digite a temperatura em graus C :'))\n",
        "F = (tempC*1.8) + 32\n",
        "print('A temperatura Farenheit é {}'.format(F))"
      ],
      "metadata": {
        "id": "2oHXF-0kMXco",
        "colab": {
          "base_uri": "https://localhost:8080/"
        },
        "outputId": "30bb606b-e180-429a-aee5-91d0d8dd8f20"
      },
      "execution_count": null,
      "outputs": [
        {
          "output_type": "stream",
          "name": "stdout",
          "text": [
            "digite a temperatura em graus C :0\n",
            "A temperatura Farenheit é 32.0\n"
          ]
        }
      ]
    },
    {
      "cell_type": "markdown",
      "source": [
        "# 11 - Faça um Programa que peça 2 números inteiros e um número real. Calcule e mostre:\n",
        "A - o produto do dobro do primeiro com metade do segundo .\n",
        "B - a soma do triplo do primeiro com o terceiro.\n",
        "C - o terceiro elevado ao cubo."
      ],
      "metadata": {
        "id": "GacvsnESMYPO"
      }
    },
    {
      "cell_type": "code",
      "source": [
        "int_1 = int(input('Primeiro inteiro :'))\n",
        "int_2 = int(input('Segundo inteiro :'))\n",
        "real = float(input('Numero Real:'))\n",
        "\n",
        "A = (2*int_1) + (int_2/2)\n",
        "B = (3*int_1) + real\n",
        "C = real**3\n",
        "print('o produto do dobro do primeiro com metade do segundo :',A)\n",
        "print('a soma do triplo do primeiro com o terceiro :',B)\n",
        "print('o terceiro elevado ao cubo',C)"
      ],
      "metadata": {
        "id": "UvlECS7jMlwu",
        "colab": {
          "base_uri": "https://localhost:8080/"
        },
        "outputId": "5ae3c65c-c6d6-449b-eea6-23aad2f5a968"
      },
      "execution_count": null,
      "outputs": [
        {
          "output_type": "stream",
          "name": "stdout",
          "text": [
            "Primeiro inteiro :5\n",
            "Segundo inteiro :2\n",
            "Numero Real:3.5\n",
            "o produto do dobro do primeiro com metade do segundo : 11.0\n",
            " a soma do triplo do primeiro com o terceiro : 18.5\n",
            "o terceiro elevado ao cubo 42.875\n"
          ]
        }
      ]
    },
    {
      "cell_type": "markdown",
      "source": [
        "# 12 - Tendo como dados de entrada a altura de uma pessoa, construa um algoritmo que calcule seu peso ideal, usando a seguinte fórmula: (72.7*altura) - 58"
      ],
      "metadata": {
        "id": "mbXXLywYMmwh"
      }
    },
    {
      "cell_type": "code",
      "source": [
        "altura = float(input(\"digite sua altura ,(use . para separar)\"))\n",
        "pesoIdeal = (72.7*altura) - 58\n",
        "print('Seu peso ideal é {}'.format(pesoIdeal))"
      ],
      "metadata": {
        "id": "D039HNqvMt87",
        "colab": {
          "base_uri": "https://localhost:8080/"
        },
        "outputId": "2a969217-0ecc-40fe-aae2-1c2b6b8636c5"
      },
      "execution_count": null,
      "outputs": [
        {
          "output_type": "stream",
          "name": "stdout",
          "text": [
            "digite sua altura ,(use . para separar)1.77\n",
            "Seu peso ideal é 70.679\n"
          ]
        }
      ]
    },
    {
      "cell_type": "markdown",
      "source": [
        "# 13 - Tendo como dado de entrada a altura (h) de uma pessoa, construa um algoritmo que calcule seu peso ideal, utilizando as seguintes fórmulas:\n",
        "A - Para homens: (72.7*h) - 58\n",
        "\n",
        "B - Para mulheres: (62.1*h) - 44.7"
      ],
      "metadata": {
        "id": "FQgMOJj3MuuY"
      }
    },
    {
      "cell_type": "code",
      "source": [
        "sex = input('Digite M se vc for homen ou F se vc for mulher :')\n",
        "altura = float(input(\"digite sua altura ,(use . para separar)\"))\n",
        "\n",
        "\n",
        "if sex == 'M' or sex == \"m\":\n",
        "    pesoHomen = (72.7*altura) - 58\n",
        "    print('Homen ,seu peso ideal é {}'.format(pesoHomen))\n",
        "\n",
        "elif sex == 'F' or sex == 'f':\n",
        "      pesoMulher = (62.1*altura) - 44.7\n",
        "      print('Mulher, seu peso ideal é {}'.format(pesoMulher))\n",
        "\n",
        "else:\n",
        "    print('Opção de sexo errado, tente novamente !')\n",
        "\n",
        "print('FIM')\n"
      ],
      "metadata": {
        "id": "lJcwOYBsM8kK",
        "colab": {
          "base_uri": "https://localhost:8080/"
        },
        "outputId": "9cf5c39a-1ece-48c0-f57d-c89e7d706c5f"
      },
      "execution_count": null,
      "outputs": [
        {
          "output_type": "stream",
          "name": "stdout",
          "text": [
            "Digite M se vc for homen ou F se vc for mulher :m\n",
            "digite sua altura ,(use . para separar)1.80\n",
            "Homen ,seu peso ideal é 72.86000000000001\n",
            "FIM\n"
          ]
        }
      ]
    },
    {
      "cell_type": "markdown",
      "source": [
        "# 14 - João Papo-de-Pescador, homem de bem, comprou um microcomputador para controlar o rendimento diário de seu trabalho. Toda vez que ele traz um peso de peixes maior que o estabelecido pelo regulamento de pesca do estado de São Paulo (50 quilos) deve pagar uma multa de R$ 4,00 por quilo excedente. João precisa que você faça um programa que leia a variável peso (peso de peixes) e calcule o excesso. Gravar na variável excesso a quantidade de quilos além do limite e na variável multa o valor da multa que João deverá pagar. Imprima os dados do programa com as mensagens adequadas."
      ],
      "metadata": {
        "id": "ta5nfYKLM-G9"
      }
    },
    {
      "cell_type": "code",
      "source": [
        "peso = float(input('Digite o peso dos pescados :'))\n",
        "if peso > 50 :\n",
        "  excesso = (peso - 50)\n",
        "  multa = excesso * 4\n",
        "  print('O peso do pescado foi de {} Kgs ,Vc ultrapassou {} Kgs do permitido sua multa é de R$ {:.2f}'.format(peso,excesso,multa))\n",
        "else:\n",
        "  print('Vc não tem multa o peso do pescado foi de {} Kgs.'.format(peso))"
      ],
      "metadata": {
        "id": "W189aQH8NEy5",
        "colab": {
          "base_uri": "https://localhost:8080/"
        },
        "outputId": "83b2a357-3d24-4f43-c3f1-49756b1cefbc"
      },
      "execution_count": null,
      "outputs": [
        {
          "output_type": "stream",
          "name": "stdout",
          "text": [
            "Digite o peso dos pescados :60\n",
            "O peso do pescado foi de 60.0 Kgs ,Vc ultrapassou 10.0 Kgs do permitido sua multa é de R$ 40.00\n"
          ]
        }
      ]
    },
    {
      "cell_type": "markdown",
      "source": [
        "# 15 - Faça um Programa que pergunte quanto você ganha por hora e o número de horas trabalhadas no mês. Calcule e mostre o total do seu salário no referido mês, sabendo-se que são descontados 11% para o Imposto de Renda, 8% para o INSS e 5% para o sindicato, faça um programa que nos dê:\n",
        "A - salário bruto.\n",
        "\n",
        "B - quanto pagou ao INSS.\n",
        "\n",
        "C - quanto pagou ao sindicato.\n",
        "\n",
        "D - o salário líquido.\n",
        "\n",
        "E - calcule os descontos e o salário líquido, conforme a tabela abaixo:\n",
        "\n",
        "(+) Salário Bruto : R$\n",
        "\n",
        "(-) IR (11%) : R$\n",
        "\n",
        "(-) INSS (8%) : R$\n",
        "\n",
        "(-) Sindicato ( 5%) : R$\n",
        "\n",
        "(=) Salário Liquido : R$\n",
        "\n",
        "Obs.: Salário Bruto - Descontos = Salário Líquido."
      ],
      "metadata": {
        "id": "g6SX13saNHsr"
      }
    },
    {
      "cell_type": "code",
      "source": [
        "ganhoHora = float(input('quanto vc ganha por hora ?'))\n",
        "horasTrabalho = float(input('quantas horas vc trabalho este Mês ?'))\n",
        "salarioBruto = (ganhoHora * horasTrabalho)\n",
        "sindicato = (salarioBruto * 0.05)\n",
        "impostoRenda = (salarioBruto * 0.11)\n",
        "inss = (salarioBruto * 0.08)\n",
        "descontos = (sindicato+impostoRenda+inss)\n",
        "salarioLiquido = (salarioBruto - descontos)\n",
        "print('Salario Bruto R$ {:.2f}'.format(salarioBruto))\n",
        "print('INSS R$ {:.2f}'.format(inss))\n",
        "print('Sindicato R$ {:.2f}'.format(sindicato))\n",
        "print('Salario Líquido R$ {:.2f}'.format(salarioLiquido))"
      ],
      "metadata": {
        "id": "e4Pfz13BOMwe",
        "colab": {
          "base_uri": "https://localhost:8080/"
        },
        "outputId": "683daae3-9aff-40aa-f097-873c6dc3f115"
      },
      "execution_count": null,
      "outputs": [
        {
          "output_type": "stream",
          "name": "stdout",
          "text": [
            "quanto vc ganha por hora ?10\n",
            "quantas horas vc trabalho este Mês ?100\n",
            "Salario Bruto R$ 1000.00\n",
            "INSS R$ 80.00\n",
            "Sindicato R$ 50.00\n",
            "Salario Líquido R$ 760.00\n"
          ]
        }
      ]
    },
    {
      "cell_type": "markdown",
      "source": [
        "# 16 - Faça um programa para uma loja de tintas. O programa deverá pedir o tamanho em metros quadrados da área a ser pintada. Considere que a cobertura da tinta é de 1 litro para cada 3 metros quadrados e que a tinta é vendida em latas de 18 litros, que custam R$ 80,00. Informe ao usuário a quantidades de latas de tinta a serem compradas e o preço total."
      ],
      "metadata": {
        "id": "KGdhRv5BONrM"
      }
    },
    {
      "cell_type": "code",
      "source": [
        "import math\n",
        "\n",
        "# Função para calcular a quantidade de latas de tinta e o preço total\n",
        "def calcular_tinta(area):\n",
        "    # Cada lata de tinta cobre 54 metros quadrados (18 litros * 3 metros quadrados/litro)\n",
        "    cobertura_por_lata = 54\n",
        "\n",
        "    # Calcula a quantidade de latas necessárias\n",
        "    latas_necessarias = math.ceil(area / cobertura_por_lata)\n",
        "\n",
        "    # Calcula o preço total\n",
        "    preco_total = latas_necessarias * 80.00\n",
        "\n",
        "    return latas_necessarias, preco_total\n",
        "\n",
        "# Solicita ao usuário o tamanho da área a ser pintada\n",
        "area_a_pintar = float(input(\"Digite o tamanho da área a ser pintada em metros quadrados: \"))\n",
        "\n",
        "# Chama a função para calcular a quantidade de latas e o preço total\n",
        "latas, preco = calcular_tinta(area_a_pintar)\n",
        "\n",
        "# Exibe o resultado ao usuário\n",
        "print(f\"\\nVocê precisará de {latas} latas de tinta.\")\n",
        "print(f\"O preço total será de R$ {preco:.2f}.\")\n"
      ],
      "metadata": {
        "id": "tFlMEjm0OUCO",
        "colab": {
          "base_uri": "https://localhost:8080/"
        },
        "outputId": "436bce0f-7a26-4928-fdb0-64c0346b7bb6"
      },
      "execution_count": null,
      "outputs": [
        {
          "output_type": "stream",
          "name": "stdout",
          "text": [
            "Digite o tamanho da área a ser pintada em metros quadrados: 165\n",
            "\n",
            "Você precisará de 4 latas de tinta.\n",
            "O preço total será de R$ 320.00.\n"
          ]
        }
      ]
    },
    {
      "cell_type": "markdown",
      "source": [
        "# 17 - Faça um Programa para uma loja de tintas. O programa deverá pedir o tamanho em metros quadrados da área a ser pintada. Considere que a cobertura da tinta é de 1 litro para cada 6 metros quadrados e que a tinta é vendida em latas de 18 litros, que custam  80,00 ou em galões de 3,6 litros, que custam  25,00.\n",
        "\n",
        "Informe ao usuário as quantidades de tinta a serem compradas e os respectivos preços em 3 situações:\n",
        "\n",
        "- comprar apenas latas de 18 litros;\n",
        "\n",
        "- comprar apenas galões de 3,6 litros;\n",
        "\n",
        "- misturar latas e galões, de forma que o desperdício de tinta seja menor. Acrescente 10% de folga e sempre arredonde os valores para cima, isto é, considere latas cheias"
      ],
      "metadata": {
        "id": "ea5-1qThOZ8I"
      }
    },
    {
      "cell_type": "code",
      "source": [
        "import math\n",
        "tamArea = (float(input('digite o tamanho da área :'))*1.1)\n",
        "latao = math.ceil(tamArea / 108)\n",
        "galao = math.ceil(tamArea / 21.6)\n",
        "precoLatao = latao * 80\n",
        "precoGalao = galao * 25\n",
        "litrosNecessarios = math.ceil((tamArea/6))\n",
        "lata = math.ceil(litrosNecessarios / 18) % 18 #litros necessario divide pelo 18l e o resto da divisão vai ser os litros que faltam para completar com galões\n",
        "galao = math.ceil(lata / 3.6)\n",
        "\n",
        "\n",
        "print('Total de Latas de 18 litros {} no valor de R$ {:.2f}'.format(latao,precoLatao))\n",
        "print('Total de Galões de 3,6 litros {} no valor de R$ {:.2f}'.format(galao,precoGalao))\n",
        "print('Litros Necessarios com folga de 10 %:',litrosNecessarios, 'Litros.')\n",
        "print(f\"quantidade de latões combinado com galões ,latões :{lata}, galões :{galao}, Total R$:{(lata*80)+(galao*25)}\")\n",
        "\n"
      ],
      "metadata": {
        "id": "zSTZYTY5PE2k",
        "colab": {
          "base_uri": "https://localhost:8080/"
        },
        "outputId": "35887470-01e2-4bcc-cb8a-fb5f6567b440"
      },
      "execution_count": null,
      "outputs": [
        {
          "output_type": "stream",
          "name": "stdout",
          "text": [
            "digite o tamanho da área :600\n",
            "Total de Latas de 18 litros 7 no valor de R$ 560.00\n",
            "Total de Galões de 3,6 litros 2 no valor de R$ 775.00\n",
            "Litros Necessarios com folga de 10 %: 110 Litros.\n",
            "quantidade de latões combinado com galões ,latões :7, galões :2, Total R$:610\n"
          ]
        }
      ]
    },
    {
      "cell_type": "markdown",
      "source": [
        "# 18 - Faça um programa que peça o tamanho de um arquivo para download (em MB) e a velocidade de um link de Internet (em Mbps), calcule e informe o tempo aproximado de download do arquivo usando este link (em minutos)."
      ],
      "metadata": {
        "id": "TH0gg6BQPGST"
      }
    },
    {
      "cell_type": "code",
      "source": [
        "import math\n",
        "\n",
        "megabytes = float(input('informe tamanho do arquivo :'))\n",
        "megabits = float(input('informe a velocidade da internet :'))\n",
        "\n",
        "conversao = (megabytes * 8)\n",
        "tempDownload = math.ceil(conversao / megabits)\n",
        "\n",
        "print('o tempo de download sera de aproximadamente {} segundos '.format(tempDownload))"
      ],
      "metadata": {
        "id": "HcBPPYbgPUCB",
        "colab": {
          "base_uri": "https://localhost:8080/"
        },
        "outputId": "f693a26b-9599-4b5f-d161-ca3efba2eda1"
      },
      "execution_count": null,
      "outputs": [
        {
          "output_type": "stream",
          "name": "stdout",
          "text": [
            "informe tamanho do arquivo :100\n",
            "informe a velocidade da internet :150\n",
            "o tempo de download sera de 6 segundos \n"
          ]
        }
      ]
    }
  ]
}